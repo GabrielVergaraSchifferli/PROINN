{
 "cells": [
  {
   "cell_type": "code",
   "execution_count": 9,
   "metadata": {},
   "outputs": [],
   "source": [
    "import os\n",
    "import numpy as np\n",
    "import pandas as pd\n",
    "import matplotlib.pyplot as plt\n",
    "import seaborn as sns\n"
   ]
  },
  {
   "cell_type": "code",
   "execution_count": 13,
   "metadata": {
    "scrolled": true
   },
   "outputs": [
    {
     "data": {
      "text/html": [
       "<div>\n",
       "<style scoped>\n",
       "    .dataframe tbody tr th:only-of-type {\n",
       "        vertical-align: middle;\n",
       "    }\n",
       "\n",
       "    .dataframe tbody tr th {\n",
       "        vertical-align: top;\n",
       "    }\n",
       "\n",
       "    .dataframe thead th {\n",
       "        text-align: right;\n",
       "    }\n",
       "</style>\n",
       "<table border=\"1\" class=\"dataframe\">\n",
       "  <thead>\n",
       "    <tr style=\"text-align: right;\">\n",
       "      <th></th>\n",
       "      <th>Orden</th>\n",
       "      <th>Tipo</th>\n",
       "      <th>Fecha</th>\n",
       "      <th>Mes</th>\n",
       "      <th>Año</th>\n",
       "      <th>Clase</th>\n",
       "      <th>CEBE</th>\n",
       "      <th>UN</th>\n",
       "      <th>SUC</th>\n",
       "      <th>LN</th>\n",
       "      <th>Centro</th>\n",
       "    </tr>\n",
       "  </thead>\n",
       "  <tbody>\n",
       "    <tr>\n",
       "      <th>0</th>\n",
       "      <td>19121033</td>\n",
       "      <td>ZSGR</td>\n",
       "      <td>14-03-2019</td>\n",
       "      <td>3</td>\n",
       "      <td>2019</td>\n",
       "      <td>Orden de Servicio Garantia Liviano</td>\n",
       "      <td>10ROSL10</td>\n",
       "      <td>Servicio Liviano</td>\n",
       "      <td>Rondizzoni</td>\n",
       "      <td>SL GM Taller</td>\n",
       "      <td>Santiago Rondizzoni</td>\n",
       "    </tr>\n",
       "    <tr>\n",
       "      <th>1</th>\n",
       "      <td>19121038</td>\n",
       "      <td>ZSGR</td>\n",
       "      <td>20-04-2020</td>\n",
       "      <td>4</td>\n",
       "      <td>2020</td>\n",
       "      <td>Orden de Servicio Garantia Liviano</td>\n",
       "      <td>10CASL10</td>\n",
       "      <td>Servicio Liviano</td>\n",
       "      <td>Calama</td>\n",
       "      <td>SL GM Taller</td>\n",
       "      <td>Calama</td>\n",
       "    </tr>\n",
       "    <tr>\n",
       "      <th>2</th>\n",
       "      <td>19121039</td>\n",
       "      <td>ZSGR</td>\n",
       "      <td>21-02-2019</td>\n",
       "      <td>2</td>\n",
       "      <td>2019</td>\n",
       "      <td>Orden de Servicio Garantia Liviano</td>\n",
       "      <td>10ANSL10</td>\n",
       "      <td>Servicio Liviano</td>\n",
       "      <td>Antofagasta</td>\n",
       "      <td>SL GM Taller</td>\n",
       "      <td>Antofagasta</td>\n",
       "    </tr>\n",
       "    <tr>\n",
       "      <th>3</th>\n",
       "      <td>19121045</td>\n",
       "      <td>ZSGR</td>\n",
       "      <td>14-02-2019</td>\n",
       "      <td>2</td>\n",
       "      <td>2019</td>\n",
       "      <td>Orden de Servicio Garantia Liviano</td>\n",
       "      <td>10MNSL10</td>\n",
       "      <td>Servicio Liviano</td>\n",
       "      <td>Mall Plaza Norte</td>\n",
       "      <td>SL GM Taller</td>\n",
       "      <td>Santiago Mall Plaza Norte</td>\n",
       "    </tr>\n",
       "    <tr>\n",
       "      <th>4</th>\n",
       "      <td>19121050</td>\n",
       "      <td>ZSGR</td>\n",
       "      <td>14-02-2019</td>\n",
       "      <td>2</td>\n",
       "      <td>2019</td>\n",
       "      <td>Orden de Servicio Garantia Liviano</td>\n",
       "      <td>10ROSL30</td>\n",
       "      <td>Servicio Liviano</td>\n",
       "      <td>Rondizzoni</td>\n",
       "      <td>SL GM Camiones</td>\n",
       "      <td>Santiago Rondizzoni</td>\n",
       "    </tr>\n",
       "  </tbody>\n",
       "</table>\n",
       "</div>"
      ],
      "text/plain": [
       "      Orden  Tipo       Fecha  Mes   Año                               Clase  \\\n",
       "0  19121033  ZSGR  14-03-2019    3  2019  Orden de Servicio Garantia Liviano   \n",
       "1  19121038  ZSGR  20-04-2020    4  2020  Orden de Servicio Garantia Liviano   \n",
       "2  19121039  ZSGR  21-02-2019    2  2019  Orden de Servicio Garantia Liviano   \n",
       "3  19121045  ZSGR  14-02-2019    2  2019  Orden de Servicio Garantia Liviano   \n",
       "4  19121050  ZSGR  14-02-2019    2  2019  Orden de Servicio Garantia Liviano   \n",
       "\n",
       "       CEBE                UN               SUC              LN  \\\n",
       "0  10ROSL10  Servicio Liviano        Rondizzoni    SL GM Taller   \n",
       "1  10CASL10  Servicio Liviano            Calama    SL GM Taller   \n",
       "2  10ANSL10  Servicio Liviano       Antofagasta    SL GM Taller   \n",
       "3  10MNSL10  Servicio Liviano  Mall Plaza Norte    SL GM Taller   \n",
       "4  10ROSL30  Servicio Liviano        Rondizzoni  SL GM Camiones   \n",
       "\n",
       "                      Centro  \n",
       "0        Santiago Rondizzoni  \n",
       "1                     Calama  \n",
       "2                Antofagasta  \n",
       "3  Santiago Mall Plaza Norte  \n",
       "4        Santiago Rondizzoni  "
      ]
     },
     "execution_count": 13,
     "metadata": {},
     "output_type": "execute_result"
    }
   ],
   "source": [
    "Facturacion = pd.read_csv(\"Facturacion_centro.csv\",encoding = \"ISO-8859-1\")\n",
    "Facturacion.columns = ['Orden', 'Tipo', 'Fecha', 'Mes', 'Año', 'Clase', 'CEBE', 'UN', 'SUC', 'LN', 'Centro']\n",
    "Facturacion.head()\n",
    "\n",
    "# UN = Servicio liviano para todos, Columna redundante"
   ]
  },
  {
   "cell_type": "code",
   "execution_count": 18,
   "metadata": {},
   "outputs": [
    {
     "data": {
      "text/plain": [
       "array(['Orden de Servicio Garantia Liviano',\n",
       "       'Orden de Servicio Reparacion Liviano'], dtype=object)"
      ]
     },
     "execution_count": 18,
     "metadata": {},
     "output_type": "execute_result"
    }
   ],
   "source": [
    "Facturacion['Clase'].unique()"
   ]
  },
  {
   "cell_type": "code",
   "execution_count": 19,
   "metadata": {},
   "outputs": [
    {
     "data": {
      "text/plain": [
       "array([2019, 2020, 2018], dtype=int64)"
      ]
     },
     "execution_count": 19,
     "metadata": {},
     "output_type": "execute_result"
    }
   ],
   "source": [
    "Facturacion['Año'].unique()"
   ]
  },
  {
   "cell_type": "code",
   "execution_count": 22,
   "metadata": {},
   "outputs": [
    {
     "data": {
      "text/plain": [
       "array(['Rondizzoni', 'Calama', 'Antofagasta', 'Mall Plaza Norte',\n",
       "       'Temuco', 'Copiapo', 'La Serena', 'Concepci¢n', 'Iquique', 'Buin',\n",
       "       'Vespucio', 'Alto Hospicio', 'Ossa', 'Ruta 68'], dtype=object)"
      ]
     },
     "execution_count": 22,
     "metadata": {},
     "output_type": "execute_result"
    }
   ],
   "source": [
    "Facturacion['SUC'].unique()"
   ]
  },
  {
   "cell_type": "code",
   "execution_count": 23,
   "metadata": {},
   "outputs": [
    {
     "data": {
      "text/plain": [
       "array(['SL GM Taller', 'SL GM Camiones', 'SL SK Taller', 'SL GM Tapide',\n",
       "       'SL GM Pre-Entrega', 'SL Nissan Taller', 'SL GM Taller para RAC'],\n",
       "      dtype=object)"
      ]
     },
     "execution_count": 23,
     "metadata": {},
     "output_type": "execute_result"
    }
   ],
   "source": [
    "Facturacion['LN'].unique()"
   ]
  },
  {
   "cell_type": "code",
   "execution_count": 24,
   "metadata": {
    "scrolled": true
   },
   "outputs": [
    {
     "data": {
      "text/plain": [
       "array(['Santiago Rondizzoni', 'Calama', 'Antofagasta',\n",
       "       'Santiago Mall Plaza Norte', 'Temuco', 'Copiap¢', 'La Serena',\n",
       "       'Concepci¢n', 'Iquique', 'Santiago Paine', 'Calama S. Pesado',\n",
       "       'Santiago Vespucio', 'Iquique Alto Hospicio', 'La Serena Norte',\n",
       "       'Santiago Ossa', 'Santiago Ruta 68'], dtype=object)"
      ]
     },
     "execution_count": 24,
     "metadata": {},
     "output_type": "execute_result"
    }
   ],
   "source": [
    "Facturacion['Centro'].unique()"
   ]
  },
  {
   "cell_type": "code",
   "execution_count": 25,
   "metadata": {},
   "outputs": [
    {
     "data": {
      "text/plain": [
       "array(['ZSGR', 'ZSRL'], dtype=object)"
      ]
     },
     "execution_count": 25,
     "metadata": {},
     "output_type": "execute_result"
    }
   ],
   "source": [
    "Facturacion['Tipo'].unique()"
   ]
  },
  {
   "cell_type": "code",
   "execution_count": 26,
   "metadata": {
    "scrolled": false
   },
   "outputs": [
    {
     "data": {
      "text/plain": [
       "array(['10ROSL10', '10CASL10', '10ANSL10', '10MNSL10', '10ROSL30',\n",
       "       '10ANSK10', '10TESL10', '10CPSL10', '10LSSL10', '10CCSL10',\n",
       "       '10CASK10', '10IQSL10', '10BUSL10', '10ROSL20', '10CPSL20',\n",
       "       '10CCSL20', '10ANSL20', '10AVSL30', '10CPSL30', '10LSSL20',\n",
       "       '10AHSL10', '10CASL20', '10IQSL30', '10CASL40', '10AVSL10',\n",
       "       '10IQNS10', '10CASL30', '10CANS10', '10ANNS10', '10ROSL50',\n",
       "       '10ANSL50', '10BUSL50', '10CPSL50', '10ANSL30', '10OSSL10',\n",
       "       '10CCSL30', '10LSSL30', '10IQSL20', '10CCSL40', '10RUSL10',\n",
       "       '10RUSL30', '10CASL50', '10AHSL50', '10CCSL50', '10RUSL50',\n",
       "       '10TESL50', '10LSSL50', '10IQSL50'], dtype=object)"
      ]
     },
     "execution_count": 26,
     "metadata": {},
     "output_type": "execute_result"
    }
   ],
   "source": [
    "Facturacion['CEBE'].unique()"
   ]
  },
  {
   "cell_type": "code",
   "execution_count": 50,
   "metadata": {},
   "outputs": [],
   "source": [
    "# SE ARREGLA LA INCONSISTENCIA DE FORMATO DE FECHAS EN 11-01-1999 y 11/01/1999 y SE DEJA COMO  11-01-1999.\n",
    "Facturacion['Fecha'] = Facturacion['Fecha'].str.replace('/','-')\n",
    "Facturacion['SUC'] = Facturacion['SUC'].str.replace('¢','o')\n",
    "Facturacion['Centro'] = Facturacion['Centro'].str.replace('¢','o')\n",
    "# SE CREAN DATAFRAMES SEGUN SUCURSAL\n",
    "\n",
    "Suc_Rondizzoni = Facturacion.loc[Facturacion['SUC'] == 'Rondizzoni']\n",
    "# Suc. Rondizzoni tiene Centro: Santaigo Rondizzoni, Calama S. Pesado, Santiago Mall Plaza Norte, La Serena, Santiago Vespucio\n",
    "Suc_Calama = Facturacion.loc[Facturacion['SUC'] == 'Calama']\n",
    "# Suc. Calama tiene Centro: Calama, Calama S. Pesado\n",
    "Suc_Antofagasta = Facturacion.loc[Facturacion['SUC'] == 'Antofagasta']\n",
    "# Suc. Antofagasta tiene Centro: Antofagasta, La Serena, Santiago Rondizzoni\n",
    "Suc_MPN = Facturacion.loc[Facturacion['SUC'] == 'Mall Plaza Norte']\n",
    "# Suc. Mall Plaza Norte tiene Centro: Santiago Mall Plaza Norte\n",
    "Suc_Temuco = Facturacion.loc[Facturacion['SUC'] == 'Temuco']\n",
    "# Centro: Temuco\n",
    "Suc_Copiapo = Facturacion.loc[Facturacion['SUC'] == 'Copiapo']\n",
    "# Centro: Copiapo, Santiago Rondizzoni\n",
    "Suc_Serena = Facturacion.loc[Facturacion['SUC'] == 'La Serena']\n",
    "# Centro: La Serena, La Serena Norte\n",
    "Suc_Concepcion = Facturacion.loc[Facturacion['SUC'] == 'Concepcion']\n",
    "# Centro: Concepcion\n",
    "Suc_Iquique = Facturacion.loc[Facturacion['SUC'] == 'Iquique']\n",
    "# Centro: Iquique\n",
    "Suc_Buin = Facturacion.loc[Facturacion['SUC'] == 'Buin']\n",
    "# Centro: Santaigo Paine, Santiago Rondizzoni\n",
    "Suc_Vespucio = Facturacion.loc[Facturacion['SUC'] == 'Vespucio']\n",
    "# Centro: Santiago Vespucio, Copiapo, Santiago Ruta 68\n",
    "Suc_Alto = Facturacion.loc[Facturacion['SUC'] == 'Alto Hospicio']\n",
    "# Centro: Iquique Alto Hospicio, Iquique\n",
    "Suc_Ossa = Facturacion.loc[Facturacion['SUC'] == 'Ossa']\n",
    "# Centro: Santiago Ossa"
   ]
  },
  {
   "cell_type": "code",
   "execution_count": 36,
   "metadata": {},
   "outputs": [
    {
     "data": {
      "text/plain": [
       "array(['Santiago Ossa'], dtype=object)"
      ]
     },
     "execution_count": 36,
     "metadata": {},
     "output_type": "execute_result"
    }
   ],
   "source": [
    "Suc_Rondizzoni['Centro'].unique()\n",
    "Suc_Calama['Centro'].unique()\n",
    "Suc_Antofagasta['Centro'].unique()\n",
    "Suc_MPN['Centro'].unique()\n",
    "Suc_Temuco['Centro'].unique()\n",
    "Suc_Copiapo['Centro'].unique()\n",
    "Suc_Serena['Centro'].unique()\n",
    "Suc_Concepcion['Centro'].unique()\n",
    "Suc_Iquique['Centro'].unique()\n",
    "Suc_Buin['Centro'].unique()\n",
    "Suc_Vespucio['Centro'].unique()\n",
    "Suc_Alto['Centro'].unique()\n",
    "Suc_Ossa['Centro'].unique()"
   ]
  },
  {
   "cell_type": "code",
   "execution_count": 55,
   "metadata": {},
   "outputs": [],
   "source": [
    "# Clasificacion por orden de sericio : 'Orden de Servicio Garantia Liviano' y 'Orden de Servicio Reparacion Liviano'\n",
    "Rondizzoni_Garantia = Suc_Rondizzoni.loc[Suc_Rondizzoni['Clase'] == 'Orden de Servicio Garantia Liviano']\n",
    "Rondizzoni_Reparacion = Suc_Rondizzoni.loc[Suc_Rondizzoni['Clase'] == 'Orden de Servicio Reparacion Liviano']"
   ]
  },
  {
   "cell_type": "code",
   "execution_count": 78,
   "metadata": {},
   "outputs": [],
   "source": [
    "# Clasificacion por año  para rondizzoni\n",
    "\n",
    "RG18 = Rondizzoni_Garantia.loc[Rondizzoni_Garantia['Año'] == 2018]\n",
    "RG19 = Rondizzoni_Garantia.loc[Rondizzoni_Garantia['Año'] == 2019]\n",
    "RG20 = Rondizzoni_Garantia.loc[Rondizzoni_Garantia['Año'] == 2020]\n",
    "\n",
    "# Clasificacion por mes\n",
    "\n",
    "RG19_1 = RG19.loc[RG19['Mes'] == 1]\n",
    "RG19_2 = RG19.loc[RG19['Mes'] == 2]\n",
    "RG19_3 = RG19.loc[RG19['Mes'] == 3]\n",
    "RG19_4 = RG19.loc[RG19['Mes'] == 4]\n",
    "RG19_5 = RG19.loc[RG19['Mes'] == 5]\n",
    "RG19_6 = RG19.loc[RG19['Mes'] == 6]\n",
    "RG19_7 = RG19.loc[RG19['Mes'] == 7]\n",
    "RG19_8 = RG19.loc[RG19['Mes'] == 8]\n",
    "RG19_9 = RG19.loc[RG19['Mes'] == 9]\n",
    "RG19_10 = RG19.loc[RG19['Mes'] == 10]\n",
    "RG19_11 = RG19.loc[RG19['Mes'] == 11]\n",
    "RG19_12 = RG19.loc[RG19['Mes'] == 12]\n",
    "\n",
    "Meses = ['Enero', 'Febrero', 'Marzo', 'Abril',\n",
    "         'Mayo', 'Junio', 'Julio', 'Agosto',\n",
    "         'Septiembre', 'Octubre','Noviembre', 'Diciembre']\n",
    "\n",
    "OTS = [len(RG19_1), len(RG19_2),len(RG19_3),len(RG19_4),\n",
    "            len(RG19_5), len(RG19_6),len(RG19_7),len(RG19_8),\n",
    "            len(RG19_9), len(RG19_10),len(RG19_11),len(RG19_12),]\n"
   ]
  },
  {
   "cell_type": "code",
   "execution_count": 80,
   "metadata": {},
   "outputs": [
    {
     "data": {
      "image/png": "[encoded data removed]",
      "text/plain": [
       "<Figure size 1440x720 with 1 Axes>"
      ]
     },
     "metadata": {
      "needs_background": "light"
     },
     "output_type": "display_data"
    }
   ],
   "source": [
    "plt.figure(figsize=(20,10))\n",
    "\n",
    "# Create bars\n",
    "plt.bar(Meses, OTS)\n",
    " \n",
    "# Create names on the x-axis\n",
    "#plt.xticks(y_pos, bars)\n",
    " \n",
    "# Show graphic\n",
    "plt.show()\n"
   ]
  },
  {
   "cell_type": "code",
   "execution_count": 66,
   "metadata": {},
   "outputs": [
    {
     "data": {
      "text/plain": [
       "[5, 38, 85, 58, 148, 89, 104, 99, 121, 77, 119, 25]"
      ]
     },
     "execution_count": 66,
     "metadata": {},
     "output_type": "execute_result"
    }
   ],
   "source": []
  }
 ],
 "metadata": {
  "kernelspec": {
   "display_name": "Python 3",
   "language": "python",
   "name": "python3"
  },
  "language_info": {
   "codemirror_mode": {
    "name": "ipython",
    "version": 3
   },
   "file_extension": ".py",
   "mimetype": "text/x-python",
   "name": "python",
   "nbconvert_exporter": "python",
   "pygments_lexer": "ipython3",
   "version": "3.7.8"
  }
 },
 "nbformat": 4,
 "nbformat_minor": 4
}
