{
 "cells": [
  {
   "cell_type": "code",
   "execution_count": 106,
   "metadata": {},
   "outputs": [],
   "source": [
    "import os\n",
    "import numpy as np\n",
    "import pandas as pd\n",
    "import matplotlib.pyplot as plt\n",
    "import seaborn as sns\n",
    "import matplotlib.gridspec as gridspec"
   ]
  },
  {
   "cell_type": "code",
   "execution_count": 107,
   "metadata": {
    "scrolled": false
   },
   "outputs": [
    {
     "data": {
      "text/html": [
       "<div>\n",
       "<style scoped>\n",
       "    .dataframe tbody tr th:only-of-type {\n",
       "        vertical-align: middle;\n",
       "    }\n",
       "\n",
       "    .dataframe tbody tr th {\n",
       "        vertical-align: top;\n",
       "    }\n",
       "\n",
       "    .dataframe thead th {\n",
       "        text-align: right;\n",
       "    }\n",
       "</style>\n",
       "<table border=\"1\" class=\"dataframe\">\n",
       "  <thead>\n",
       "    <tr style=\"text-align: right;\">\n",
       "      <th></th>\n",
       "      <th>Orden</th>\n",
       "      <th>Tipo</th>\n",
       "      <th>Fecha</th>\n",
       "      <th>Mes</th>\n",
       "      <th>Año</th>\n",
       "      <th>Clase</th>\n",
       "      <th>CEBE</th>\n",
       "      <th>UN</th>\n",
       "      <th>SUC</th>\n",
       "      <th>LN</th>\n",
       "      <th>Centro</th>\n",
       "    </tr>\n",
       "  </thead>\n",
       "  <tbody>\n",
       "    <tr>\n",
       "      <th>0</th>\n",
       "      <td>19121033</td>\n",
       "      <td>ZSGR</td>\n",
       "      <td>14-03-2019</td>\n",
       "      <td>3</td>\n",
       "      <td>2019</td>\n",
       "      <td>Garantia</td>\n",
       "      <td>10ROSL10</td>\n",
       "      <td>Servicio Liviano</td>\n",
       "      <td>Rondizzoni</td>\n",
       "      <td>SL GM Taller</td>\n",
       "      <td>Santiago Rondizzoni</td>\n",
       "    </tr>\n",
       "    <tr>\n",
       "      <th>1</th>\n",
       "      <td>19121038</td>\n",
       "      <td>ZSGR</td>\n",
       "      <td>20-04-2020</td>\n",
       "      <td>4</td>\n",
       "      <td>2020</td>\n",
       "      <td>Garantia</td>\n",
       "      <td>10CASL10</td>\n",
       "      <td>Servicio Liviano</td>\n",
       "      <td>Calama</td>\n",
       "      <td>SL GM Taller</td>\n",
       "      <td>Calama</td>\n",
       "    </tr>\n",
       "    <tr>\n",
       "      <th>2</th>\n",
       "      <td>19121039</td>\n",
       "      <td>ZSGR</td>\n",
       "      <td>21-02-2019</td>\n",
       "      <td>2</td>\n",
       "      <td>2019</td>\n",
       "      <td>Garantia</td>\n",
       "      <td>10ANSL10</td>\n",
       "      <td>Servicio Liviano</td>\n",
       "      <td>Antofagasta</td>\n",
       "      <td>SL GM Taller</td>\n",
       "      <td>Antofagasta</td>\n",
       "    </tr>\n",
       "    <tr>\n",
       "      <th>3</th>\n",
       "      <td>19121045</td>\n",
       "      <td>ZSGR</td>\n",
       "      <td>14-02-2019</td>\n",
       "      <td>2</td>\n",
       "      <td>2019</td>\n",
       "      <td>Garantia</td>\n",
       "      <td>10MNSL10</td>\n",
       "      <td>Servicio Liviano</td>\n",
       "      <td>Mall Plaza Norte</td>\n",
       "      <td>SL GM Taller</td>\n",
       "      <td>Santiago Mall Plaza Norte</td>\n",
       "    </tr>\n",
       "    <tr>\n",
       "      <th>4</th>\n",
       "      <td>19121050</td>\n",
       "      <td>ZSGR</td>\n",
       "      <td>14-02-2019</td>\n",
       "      <td>2</td>\n",
       "      <td>2019</td>\n",
       "      <td>Garantia</td>\n",
       "      <td>10ROSL30</td>\n",
       "      <td>Servicio Liviano</td>\n",
       "      <td>Rondizzoni</td>\n",
       "      <td>SL GM Camiones</td>\n",
       "      <td>Santiago Rondizzoni</td>\n",
       "    </tr>\n",
       "  </tbody>\n",
       "</table>\n",
       "</div>"
      ],
      "text/plain": [
       "      Orden  Tipo       Fecha  Mes   Año     Clase      CEBE  \\\n",
       "0  19121033  ZSGR  14-03-2019    3  2019  Garantia  10ROSL10   \n",
       "1  19121038  ZSGR  20-04-2020    4  2020  Garantia  10CASL10   \n",
       "2  19121039  ZSGR  21-02-2019    2  2019  Garantia  10ANSL10   \n",
       "3  19121045  ZSGR  14-02-2019    2  2019  Garantia  10MNSL10   \n",
       "4  19121050  ZSGR  14-02-2019    2  2019  Garantia  10ROSL30   \n",
       "\n",
       "                 UN               SUC              LN  \\\n",
       "0  Servicio Liviano        Rondizzoni    SL GM Taller   \n",
       "1  Servicio Liviano            Calama    SL GM Taller   \n",
       "2  Servicio Liviano       Antofagasta    SL GM Taller   \n",
       "3  Servicio Liviano  Mall Plaza Norte    SL GM Taller   \n",
       "4  Servicio Liviano        Rondizzoni  SL GM Camiones   \n",
       "\n",
       "                      Centro  \n",
       "0        Santiago Rondizzoni  \n",
       "1                     Calama  \n",
       "2                Antofagasta  \n",
       "3  Santiago Mall Plaza Norte  \n",
       "4        Santiago Rondizzoni  "
      ]
     },
     "execution_count": 107,
     "metadata": {},
     "output_type": "execute_result"
    }
   ],
   "source": [
    "Facturacion = pd.read_csv(\"Facturacion_centro.csv\",encoding = \"ISO-8859-1\")\n",
    "Facturacion.columns = ['Orden', 'Tipo', 'Fecha', 'Mes', 'Año', 'Clase', 'CEBE', 'UN', 'SUC', 'LN', 'Centro']\n",
    "\n",
    "Meses = ['Enero', 'Febrero', 'Marzo', 'Abril',\n",
    "         'Mayo', 'Junio', 'Julio', 'Agosto',\n",
    "         'Septiembre', 'Octubre','Noviembre', 'Diciembre']\n",
    "# SE ARREGLA LA INCONSISTENCIA DE FORMATO DE FECHAS EN 11-01-1999 y 11/01/1999 y SE DEJA COMO  11-01-1999.\n",
    "Facturacion['Fecha'] = Facturacion['Fecha'].str.replace('/','-')\n",
    "Facturacion['SUC'] = Facturacion['SUC'].str.replace('¢','o')\n",
    "Facturacion['Centro'] = Facturacion['Centro'].str.replace('¢','o')\n",
    "abreviacion= {\"Orden de Servicio Garantia Liviano\": \"Garantia\"\n",
    "                          ,\"Orden de Servicio Reparacion Liviano\":\"Reparacion\" }\n",
    "\n",
    "Facturacion = Facturacion.replace(to_replace=abreviacion,value=None)\n",
    "Facturacion.head()\n",
    "#Facturacion.drop([\"Orden\", \"UN\"])\n",
    "# UN = Servicio liviano para todos, Columna redundante"
   ]
  },
  {
   "cell_type": "markdown",
   "metadata": {},
   "source": [
    "Esto es la cantidad de variables distintas que contiene cada columna\n",
    "\n",
    "Centro corresponde a centro de planificación ( sucursal física)\n",
    "\n",
    "Sucursal correspone a la región"
   ]
  },
  {
   "cell_type": "code",
   "execution_count": 18,
   "metadata": {},
   "outputs": [
    {
     "data": {
      "text/plain": [
       "array(['Orden de Servicio Garantia Liviano',\n",
       "       'Orden de Servicio Reparacion Liviano'], dtype=object)"
      ]
     },
     "execution_count": 18,
     "metadata": {},
     "output_type": "execute_result"
    }
   ],
   "source": [
    "Facturacion['Clase'].unique()"
   ]
  },
  {
   "cell_type": "code",
   "execution_count": 19,
   "metadata": {},
   "outputs": [
    {
     "data": {
      "text/plain": [
       "array([2019, 2020, 2018], dtype=int64)"
      ]
     },
     "execution_count": 19,
     "metadata": {},
     "output_type": "execute_result"
    }
   ],
   "source": [
    "# HAY SOLO UNA ORDEN EL 2018 EN IQUIQUE\n",
    "Facturacion['Año'].unique()"
   ]
  },
  {
   "cell_type": "code",
   "execution_count": 22,
   "metadata": {},
   "outputs": [
    {
     "data": {
      "text/plain": [
       "array(['Rondizzoni', 'Calama', 'Antofagasta', 'Mall Plaza Norte',\n",
       "       'Temuco', 'Copiapo', 'La Serena', 'Concepci¢n', 'Iquique', 'Buin',\n",
       "       'Vespucio', 'Alto Hospicio', 'Ossa', 'Ruta 68'], dtype=object)"
      ]
     },
     "execution_count": 22,
     "metadata": {},
     "output_type": "execute_result"
    }
   ],
   "source": [
    "Facturacion['SUC'].unique()"
   ]
  },
  {
   "cell_type": "code",
   "execution_count": 23,
   "metadata": {},
   "outputs": [
    {
     "data": {
      "text/plain": [
       "array(['SL GM Taller', 'SL GM Camiones', 'SL SK Taller', 'SL GM Tapide',\n",
       "       'SL GM Pre-Entrega', 'SL Nissan Taller', 'SL GM Taller para RAC'],\n",
       "      dtype=object)"
      ]
     },
     "execution_count": 23,
     "metadata": {},
     "output_type": "execute_result"
    }
   ],
   "source": [
    "Facturacion['LN'].unique()"
   ]
  },
  {
   "cell_type": "code",
   "execution_count": 24,
   "metadata": {
    "scrolled": true
   },
   "outputs": [
    {
     "data": {
      "text/plain": [
       "array(['Santiago Rondizzoni', 'Calama', 'Antofagasta',\n",
       "       'Santiago Mall Plaza Norte', 'Temuco', 'Copiap¢', 'La Serena',\n",
       "       'Concepci¢n', 'Iquique', 'Santiago Paine', 'Calama S. Pesado',\n",
       "       'Santiago Vespucio', 'Iquique Alto Hospicio', 'La Serena Norte',\n",
       "       'Santiago Ossa', 'Santiago Ruta 68'], dtype=object)"
      ]
     },
     "execution_count": 24,
     "metadata": {},
     "output_type": "execute_result"
    }
   ],
   "source": [
    "Facturacion['Centro'].unique()"
   ]
  },
  {
   "cell_type": "code",
   "execution_count": 25,
   "metadata": {},
   "outputs": [
    {
     "data": {
      "text/plain": [
       "array(['ZSGR', 'ZSRL'], dtype=object)"
      ]
     },
     "execution_count": 25,
     "metadata": {},
     "output_type": "execute_result"
    }
   ],
   "source": [
    "Facturacion['Tipo'].unique()"
   ]
  },
  {
   "cell_type": "code",
   "execution_count": 26,
   "metadata": {
    "scrolled": false
   },
   "outputs": [
    {
     "data": {
      "text/plain": [
       "array(['10ROSL10', '10CASL10', '10ANSL10', '10MNSL10', '10ROSL30',\n",
       "       '10ANSK10', '10TESL10', '10CPSL10', '10LSSL10', '10CCSL10',\n",
       "       '10CASK10', '10IQSL10', '10BUSL10', '10ROSL20', '10CPSL20',\n",
       "       '10CCSL20', '10ANSL20', '10AVSL30', '10CPSL30', '10LSSL20',\n",
       "       '10AHSL10', '10CASL20', '10IQSL30', '10CASL40', '10AVSL10',\n",
       "       '10IQNS10', '10CASL30', '10CANS10', '10ANNS10', '10ROSL50',\n",
       "       '10ANSL50', '10BUSL50', '10CPSL50', '10ANSL30', '10OSSL10',\n",
       "       '10CCSL30', '10LSSL30', '10IQSL20', '10CCSL40', '10RUSL10',\n",
       "       '10RUSL30', '10CASL50', '10AHSL50', '10CCSL50', '10RUSL50',\n",
       "       '10TESL50', '10LSSL50', '10IQSL50'], dtype=object)"
      ]
     },
     "execution_count": 26,
     "metadata": {},
     "output_type": "execute_result"
    }
   ],
   "source": [
    "Facturacion['CEBE'].unique()"
   ]
  },
  {
   "cell_type": "code",
   "execution_count": 108,
   "metadata": {},
   "outputs": [],
   "source": [
    "# SE CREAN DATAFRAMES SEGUN SUCURSAL\n",
    "\n",
    "Suc_Rondizzoni = Facturacion.loc[Facturacion['SUC'] == 'Rondizzoni']\n",
    "# Suc. Rondizzoni tiene Centro: Santaigo Rondizzoni, Calama S. Pesado, Santiago Mall Plaza Norte, La Serena, Santiago Vespucio\n",
    "Suc_Calama = Facturacion.loc[Facturacion['SUC'] == 'Calama']\n",
    "# Suc. Calama tiene Centro: Calama, Calama S. Pesado\n",
    "Suc_Antofagasta = Facturacion.loc[Facturacion['SUC'] == 'Antofagasta']\n",
    "# Suc. Antofagasta tiene Centro: Antofagasta, La Serena, Santiago Rondizzoni\n",
    "Suc_MPN = Facturacion.loc[Facturacion['SUC'] == 'Mall Plaza Norte']\n",
    "# Suc. Mall Plaza Norte tiene Centro: Santiago Mall Plaza Norte\n",
    "Suc_Temuco = Facturacion.loc[Facturacion['SUC'] == 'Temuco']\n",
    "# Centro: Temuco\n",
    "Suc_Copiapo = Facturacion.loc[Facturacion['SUC'] == 'Copiapo']\n",
    "# Centro: Copiapo, Santiago Rondizzoni\n",
    "Suc_Serena = Facturacion.loc[Facturacion['SUC'] == 'La Serena']\n",
    "# Centro: La Serena, La Serena Norte\n",
    "Suc_Concepcion = Facturacion.loc[Facturacion['SUC'] == 'Concepcion']\n",
    "# Centro: Concepcion\n",
    "Suc_Iquique = Facturacion.loc[Facturacion['SUC'] == 'Iquique']\n",
    "# Centro: Iquique\n",
    "Suc_Buin = Facturacion.loc[Facturacion['SUC'] == 'Buin']\n",
    "# Centro: Santaigo Paine, Santiago Rondizzoni\n",
    "Suc_Vespucio = Facturacion.loc[Facturacion['SUC'] == 'Vespucio']\n",
    "# Centro: Santiago Vespucio, Copiapo, Santiago Ruta 68\n",
    "Suc_Alto = Facturacion.loc[Facturacion['SUC'] == 'Alto Hospicio']\n",
    "# Centro: Iquique Alto Hospicio, Iquique\n",
    "Suc_Ossa = Facturacion.loc[Facturacion['SUC'] == 'Ossa']\n",
    "# Centro: Santiago Ossa"
   ]
  },
  {
   "cell_type": "markdown",
   "metadata": {},
   "source": [
    "Hay que clarificar que es Sucursal y Centro dado que una Sucursal tiene mas de un centro asociado y además mas de una sucursal tiene contienen el mismo centro."
   ]
  },
  {
   "cell_type": "code",
   "execution_count": 109,
   "metadata": {},
   "outputs": [],
   "source": [
    "meses_colors = ['#78C850',  # Enero\n",
    "                '#F08030',  # Febrero\n",
    "                '#6890F0',  # Marzo\n",
    "                '#A8B820',  # Abril\n",
    "                '#A8A878',  # Mayo\n",
    "                '#A040A0',  # Junio\n",
    "                '#F8D030',  # Julio\n",
    "                '#E0C068',  # Agosto\n",
    "                '#EE99AC',  # Septiembre\n",
    "                '#C03028',  # Octubre\n",
    "                '#F85888',  # Noviembre\n",
    "                '#B8A038',  # Diciembre\n",
    "                   ]"
   ]
  },
  {
   "cell_type": "code",
   "execution_count": 111,
   "metadata": {},
   "outputs": [
    {
     "data": {
      "text/plain": [
       "Text(0.5, 1.0, 'OT Reparación Rondizzoni 2020')"
      ]
     },
     "execution_count": 111,
     "metadata": {},
     "output_type": "execute_result"
    },
    {
     "data": {
      "image/png": "[encoded data removed]",
      "text/plain": [
       "<Figure size 1296x864 with 4 Axes>"
      ]
     },
     "metadata": {},
     "output_type": "display_data"
    }
   ],
   "source": [
    "# Clasificacion por orden de sericio : 'Orden de Servicio Garantia Liviano' y 'Orden de Servicio Reparacion Liviano'\n",
    "Rondizzoni_Garantia = Suc_Rondizzoni.loc[Suc_Rondizzoni['Clase'] == 'Garantia']\n",
    "Rondizzoni_Reparacion = Suc_Rondizzoni.loc[Suc_Rondizzoni['Clase'] == 'Reparacion']\n",
    "\n",
    "# NOMENCLATURA R= RONDIZZONI; G = GARANTIA, R = REPARACION; AÑO\n",
    "RG19 = Rondizzoni_Garantia.loc[Rondizzoni_Garantia['Año'] == 2019]\n",
    "RG20 = Rondizzoni_Garantia.loc[Rondizzoni_Garantia['Año'] == 2020]\n",
    "\n",
    "RR19 = Rondizzoni_Reparacion.loc[Rondizzoni_Reparacion['Año'] == 2019]\n",
    "RR20 = Rondizzoni_Reparacion.loc[Rondizzoni_Reparacion['Año'] == 2020]\n",
    "\n",
    "sns.set(rc={'figure.figsize':(18,12)})\n",
    "\n",
    "fig3 = plt.figure(constrained_layout=True)\n",
    "spec3 = gridspec.GridSpec(ncols=2, nrows=2, figure=fig3)\n",
    "f3_ax1 = fig3.add_subplot(spec3[0, 0])\n",
    "f3_ax2 = fig3.add_subplot(spec3[0, 1])\n",
    "f3_ax3 = fig3.add_subplot(spec3[1, 0])\n",
    "f3_ax4 = fig3.add_subplot(spec3[1, 1])\n",
    "\n",
    "\n",
    "sns.countplot(x='Mes',data=RG19, palette=meses_colors, ax=f3_ax1).set_title(\"OT Garantía Rondizzoni 2019\")\n",
    "sns.countplot(x='Mes',data=RG20, palette=meses_colors, ax=f3_ax2).set_title(\"OT Garantía Rondizzoni 2020\")\n",
    "sns.countplot(x='Mes',data=RR19, palette=meses_colors, ax=f3_ax3).set_title(\"OT Reparación Rondizzoni 2019\")\n",
    "sns.countplot(x='Mes',data=RR20, palette=meses_colors, ax=f3_ax4).set_title(\"OT Reparación Rondizzoni 2020\")"
   ]
  },
  {
   "cell_type": "code",
   "execution_count": 51,
   "metadata": {
    "scrolled": false
   },
   "outputs": [
    {
     "data": {
      "text/plain": [
       "Text(0.5, 1.0, 'OT Reparación Calama 2020')"
      ]
     },
     "execution_count": 51,
     "metadata": {},
     "output_type": "execute_result"
    },
    {
     "data": {
      "image/png": "[encoded data removed]",
      "text/plain": [
       "<Figure size 1296x864 with 4 Axes>"
      ]
     },
     "metadata": {},
     "output_type": "display_data"
    }
   ],
   "source": [
    "# Clasificacion por orden de sericio : 'Orden de Servicio Garantia Liviano' y 'Orden de Servicio Reparacion Liviano'\n",
    "Calama_Garantia = Suc_Calama.loc[Suc_Calama['Clase'] == 'Orden de Servicio Garantia Liviano']\n",
    "Calama_Reparacion = Suc_Calama.loc[Suc_Calama['Clase'] == 'Orden de Servicio Reparacion Liviano']\n",
    "\n",
    "\n",
    "CG19 = Calama_Garantia.loc[Calama_Garantia['Año'] == 2019]\n",
    "CG20 = Calama_Garantia.loc[Calama_Garantia['Año'] == 2020]\n",
    "\n",
    "CR19 = Calama_Reparacion.loc[Calama_Reparacion['Año'] == 2019]\n",
    "CR20 = Calama_Reparacion.loc[Calama_Reparacion['Año'] == 2020]\n",
    "\n",
    "sns.set(rc={'figure.figsize':(18,12)})\n",
    "\n",
    "fig3 = plt.figure(constrained_layout=True)\n",
    "spec3 = gridspec.GridSpec(ncols=2, nrows=2, figure=fig3)\n",
    "f3_ax1 = fig3.add_subplot(spec3[0, 0])\n",
    "f3_ax2 = fig3.add_subplot(spec3[0, 1])\n",
    "f3_ax3 = fig3.add_subplot(spec3[1, 0])\n",
    "f3_ax4 = fig3.add_subplot(spec3[1, 1])\n",
    "\n",
    "\n",
    "sns.countplot(x='Mes',data=CG19, palette=meses_colors, ax=f3_ax1).set_title(\"OT Garantía Calama 2019\")\n",
    "sns.countplot(x='Mes',data=CG20, palette=meses_colors, ax=f3_ax2).set_title(\"OT Garantía Calama 2020\")\n",
    "sns.countplot(x='Mes',data=CR19, palette=meses_colors, ax=f3_ax3).set_title(\"OT Reparación Calama 2019\")\n",
    "sns.countplot(x='Mes',data=CR20, palette=meses_colors, ax=f3_ax4).set_title(\"OT Reparación Calama 2020\")"
   ]
  },
  {
   "cell_type": "code",
   "execution_count": 52,
   "metadata": {},
   "outputs": [
    {
     "data": {
      "text/plain": [
       "Text(0.5, 1.0, 'OT Reparación Antofagasta 2020')"
      ]
     },
     "execution_count": 52,
     "metadata": {},
     "output_type": "execute_result"
    },
    {
     "data": {
      "image/png": "[encoded data removed]",
      "text/plain": [
       "<Figure size 1296x864 with 4 Axes>"
      ]
     },
     "metadata": {},
     "output_type": "display_data"
    }
   ],
   "source": [
    "# Clasificacion por orden de sericio : 'Orden de Servicio Garantia Liviano' y 'Orden de Servicio Reparacion Liviano'\n",
    "Antofagasta_Garantia = Suc_Antofagasta.loc[Suc_Antofagasta['Clase'] == 'Orden de Servicio Garantia Liviano']\n",
    "Antofagasta_Reparacion = Suc_Antofagasta.loc[Suc_Antofagasta['Clase'] == 'Orden de Servicio Reparacion Liviano']\n",
    "\n",
    "\n",
    "AG19 = Antofagasta_Garantia.loc[Antofagasta_Garantia['Año'] == 2019]\n",
    "AG20 = Antofagasta_Garantia.loc[Antofagasta_Garantia['Año'] == 2020]\n",
    "\n",
    "AR19 = Antofagasta_Reparacion.loc[Antofagasta_Reparacion['Año'] == 2019]\n",
    "AR20 = Antofagasta_Reparacion.loc[Antofagasta_Reparacion['Año'] == 2020]\n",
    "\n",
    "sns.set(rc={'figure.figsize':(18,12)})\n",
    "\n",
    "fig3 = plt.figure(constrained_layout=True)\n",
    "spec3 = gridspec.GridSpec(ncols=2, nrows=2, figure=fig3)\n",
    "f3_ax1 = fig3.add_subplot(spec3[0, 0])\n",
    "f3_ax2 = fig3.add_subplot(spec3[0, 1])\n",
    "f3_ax3 = fig3.add_subplot(spec3[1, 0])\n",
    "f3_ax4 = fig3.add_subplot(spec3[1, 1])\n",
    "\n",
    "\n",
    "sns.countplot(x='Mes',data=AG19, palette=meses_colors, ax=f3_ax1).set_title(\"OT Garantía Antofagasta 2019\")\n",
    "sns.countplot(x='Mes',data=AG20, palette=meses_colors, ax=f3_ax2).set_title(\"OT Garantía Antofagasta 2020\")\n",
    "sns.countplot(x='Mes',data=AR19, palette=meses_colors, ax=f3_ax3).set_title(\"OT Reparación Antofagasta 2019\")\n",
    "sns.countplot(x='Mes',data=AR20, palette=meses_colors, ax=f3_ax4).set_title(\"OT Reparación Antofagasta 2020\")"
   ]
  },
  {
   "cell_type": "code",
   "execution_count": 53,
   "metadata": {},
   "outputs": [
    {
     "data": {
      "text/plain": [
       "Text(0.5, 1.0, 'OT Reparación MPN 2020')"
      ]
     },
     "execution_count": 53,
     "metadata": {},
     "output_type": "execute_result"
    },
    {
     "data": {
      "image/png": "[encoded data removed]",
      "text/plain": [
       "<Figure size 1296x864 with 4 Axes>"
      ]
     },
     "metadata": {},
     "output_type": "display_data"
    }
   ],
   "source": [
    "# Clasificacion por orden de sericio : 'Orden de Servicio Garantia Liviano' y 'Orden de Servicio Reparacion Liviano'\n",
    "MPN_Garantia = Suc_MPN.loc[Suc_MPN['Clase'] == 'Orden de Servicio Garantia Liviano']\n",
    "MPN_Reparacion = Suc_MPN.loc[Suc_MPN['Clase'] == 'Orden de Servicio Reparacion Liviano']\n",
    "\n",
    "\n",
    "MPNG19 = MPN_Garantia.loc[MPN_Garantia['Año'] == 2019]\n",
    "MPNG20 = MPN_Garantia.loc[MPN_Garantia['Año'] == 2020]\n",
    "\n",
    "MPNR19 = MPN_Reparacion.loc[MPN_Reparacion['Año'] == 2019]\n",
    "MPNR20 = MPN_Reparacion.loc[MPN_Reparacion['Año'] == 2020]\n",
    "\n",
    "sns.set(rc={'figure.figsize':(18,12)})\n",
    "\n",
    "fig3 = plt.figure(constrained_layout=True)\n",
    "spec3 = gridspec.GridSpec(ncols=2, nrows=2, figure=fig3)\n",
    "f3_ax1 = fig3.add_subplot(spec3[0, 0])\n",
    "f3_ax2 = fig3.add_subplot(spec3[0, 1])\n",
    "f3_ax3 = fig3.add_subplot(spec3[1, 0])\n",
    "f3_ax4 = fig3.add_subplot(spec3[1, 1])\n",
    "\n",
    "\n",
    "sns.countplot(x='Mes',data=MPNG19, palette=meses_colors, ax=f3_ax1).set_title(\"OT Garantía MPN 2019\")\n",
    "sns.countplot(x='Mes',data=MPNG20, palette=meses_colors, ax=f3_ax2).set_title(\"OT Garantía MPN 2020\")\n",
    "sns.countplot(x='Mes',data=MPNR19, palette=meses_colors, ax=f3_ax3).set_title(\"OT Reparación MPN 2019\")\n",
    "sns.countplot(x='Mes',data=MPNR20, palette=meses_colors, ax=f3_ax4).set_title(\"OT Reparación MPN 2020\")"
   ]
  },
  {
   "cell_type": "code",
   "execution_count": 101,
   "metadata": {},
   "outputs": [
    {
     "ename": "NameError",
     "evalue": "name 'Rondizzoni_Garantia' is not defined",
     "output_type": "error",
     "traceback": [
      "\u001b[1;31m---------------------------------------------------------------------------\u001b[0m",
      "\u001b[1;31mNameError\u001b[0m                                 Traceback (most recent call last)",
      "\u001b[1;32m<ipython-input-101-02f157c79410>\u001b[0m in \u001b[0;36m<module>\u001b[1;34m\u001b[0m\n\u001b[0;32m      1\u001b[0m \u001b[1;31m# Clasificacion por año  para rondizzoni\u001b[0m\u001b[1;33m\u001b[0m\u001b[1;33m\u001b[0m\u001b[1;33m\u001b[0m\u001b[0m\n\u001b[0;32m      2\u001b[0m \u001b[1;33m\u001b[0m\u001b[0m\n\u001b[1;32m----> 3\u001b[1;33m \u001b[0mRG18\u001b[0m \u001b[1;33m=\u001b[0m \u001b[0mRondizzoni_Garantia\u001b[0m\u001b[1;33m.\u001b[0m\u001b[0mloc\u001b[0m\u001b[1;33m[\u001b[0m\u001b[0mRondizzoni_Garantia\u001b[0m\u001b[1;33m[\u001b[0m\u001b[1;34m'Año'\u001b[0m\u001b[1;33m]\u001b[0m \u001b[1;33m==\u001b[0m \u001b[1;36m2018\u001b[0m\u001b[1;33m]\u001b[0m\u001b[1;33m\u001b[0m\u001b[1;33m\u001b[0m\u001b[0m\n\u001b[0m\u001b[0;32m      4\u001b[0m \u001b[0mRG19\u001b[0m \u001b[1;33m=\u001b[0m \u001b[0mRondizzoni_Garantia\u001b[0m\u001b[1;33m.\u001b[0m\u001b[0mloc\u001b[0m\u001b[1;33m[\u001b[0m\u001b[0mRondizzoni_Garantia\u001b[0m\u001b[1;33m[\u001b[0m\u001b[1;34m'Año'\u001b[0m\u001b[1;33m]\u001b[0m \u001b[1;33m==\u001b[0m \u001b[1;36m2019\u001b[0m\u001b[1;33m]\u001b[0m\u001b[1;33m\u001b[0m\u001b[1;33m\u001b[0m\u001b[0m\n\u001b[0;32m      5\u001b[0m \u001b[0mRG20\u001b[0m \u001b[1;33m=\u001b[0m \u001b[0mRondizzoni_Garantia\u001b[0m\u001b[1;33m.\u001b[0m\u001b[0mloc\u001b[0m\u001b[1;33m[\u001b[0m\u001b[0mRondizzoni_Garantia\u001b[0m\u001b[1;33m[\u001b[0m\u001b[1;34m'Año'\u001b[0m\u001b[1;33m]\u001b[0m \u001b[1;33m==\u001b[0m \u001b[1;36m2020\u001b[0m\u001b[1;33m]\u001b[0m\u001b[1;33m\u001b[0m\u001b[1;33m\u001b[0m\u001b[0m\n",
      "\u001b[1;31mNameError\u001b[0m: name 'Rondizzoni_Garantia' is not defined"
     ]
    }
   ],
   "source": [
    "# Clasificacion por año  para rondizzoni\n",
    "\n",
    "RG18 = Rondizzoni_Garantia.loc[Rondizzoni_Garantia['Año'] == 2018]\n",
    "RG19 = Rondizzoni_Garantia.loc[Rondizzoni_Garantia['Año'] == 2019]\n",
    "RG20 = Rondizzoni_Garantia.loc[Rondizzoni_Garantia['Año'] == 2020]\n",
    "\n",
    "# Clasificacion por mes\n",
    "\n",
    "RG19_1 = RG19.loc[RG19['Mes'] == 1]\n",
    "RG19_2 = RG19.loc[RG19['Mes'] == 2]\n",
    "RG19_3 = RG19.loc[RG19['Mes'] == 3]\n",
    "RG19_4 = RG19.loc[RG19['Mes'] == 4]\n",
    "RG19_5 = RG19.loc[RG19['Mes'] == 5]\n",
    "RG19_6 = RG19.loc[RG19['Mes'] == 6]\n",
    "RG19_7 = RG19.loc[RG19['Mes'] == 7]\n",
    "RG19_8 = RG19.loc[RG19['Mes'] == 8]\n",
    "RG19_9 = RG19.loc[RG19['Mes'] == 9]\n",
    "RG19_10 = RG19.loc[RG19['Mes'] == 10]\n",
    "RG19_11 = RG19.loc[RG19['Mes'] == 11]\n",
    "RG19_12 = RG19.loc[RG19['Mes'] == 12]\n",
    "\n",
    "Meses = ['Enero', 'Febrero', 'Marzo', 'Abril',\n",
    "         'Mayo', 'Junio', 'Julio', 'Agosto',\n",
    "         'Septiembre', 'Octubre','Noviembre', 'Diciembre']\n",
    "\n",
    "OTS = [len(RG19_1), len(RG19_2),len(RG19_3),len(RG19_4),\n",
    "            len(RG19_5), len(RG19_6),len(RG19_7),len(RG19_8),\n",
    "            len(RG19_9), len(RG19_10),len(RG19_11),len(RG19_12),]\n"
   ]
  },
  {
   "cell_type": "code",
   "execution_count": 11,
   "metadata": {
    "scrolled": false
   },
   "outputs": [
    {
     "data": {
      "text/plain": [
       "<AxesSubplot:xlabel='Mes'>"
      ]
     },
     "execution_count": 11,
     "metadata": {},
     "output_type": "execute_result"
    },
    {
     "data": {
      "image/png": "[encoded data removed]",
      "text/plain": [
       "<Figure size 432x288 with 1 Axes>"
      ]
     },
     "metadata": {
      "needs_background": "light"
     },
     "output_type": "display_data"
    }
   ],
   "source": [
    "sns.distplot(RG19.Mes)"
   ]
  },
  {
   "cell_type": "code",
   "execution_count": 15,
   "metadata": {
    "scrolled": true
   },
   "outputs": [
    {
     "data": {
      "text/html": [
       "<div>\n",
       "<style scoped>\n",
       "    .dataframe tbody tr th:only-of-type {\n",
       "        vertical-align: middle;\n",
       "    }\n",
       "\n",
       "    .dataframe tbody tr th {\n",
       "        vertical-align: top;\n",
       "    }\n",
       "\n",
       "    .dataframe thead th {\n",
       "        text-align: right;\n",
       "    }\n",
       "</style>\n",
       "<table border=\"1\" class=\"dataframe\">\n",
       "  <thead>\n",
       "    <tr style=\"text-align: right;\">\n",
       "      <th></th>\n",
       "      <th>Orden</th>\n",
       "      <th>Tipo</th>\n",
       "      <th>Fecha</th>\n",
       "      <th>Mes</th>\n",
       "      <th>Año</th>\n",
       "      <th>Clase</th>\n",
       "      <th>CEBE</th>\n",
       "      <th>UN</th>\n",
       "      <th>SUC</th>\n",
       "      <th>LN</th>\n",
       "      <th>Centro</th>\n",
       "    </tr>\n",
       "  </thead>\n",
       "  <tbody>\n",
       "    <tr>\n",
       "      <th>0</th>\n",
       "      <td>19121033</td>\n",
       "      <td>ZSGR</td>\n",
       "      <td>14-03-2019</td>\n",
       "      <td>3</td>\n",
       "      <td>2019</td>\n",
       "      <td>Orden de Servicio Garantia Liviano</td>\n",
       "      <td>10ROSL10</td>\n",
       "      <td>Servicio Liviano</td>\n",
       "      <td>Rondizzoni</td>\n",
       "      <td>SL GM Taller</td>\n",
       "      <td>Santiago Rondizzoni</td>\n",
       "    </tr>\n",
       "    <tr>\n",
       "      <th>1</th>\n",
       "      <td>19121038</td>\n",
       "      <td>ZSGR</td>\n",
       "      <td>20-04-2020</td>\n",
       "      <td>4</td>\n",
       "      <td>2020</td>\n",
       "      <td>Orden de Servicio Garantia Liviano</td>\n",
       "      <td>10CASL10</td>\n",
       "      <td>Servicio Liviano</td>\n",
       "      <td>Calama</td>\n",
       "      <td>SL GM Taller</td>\n",
       "      <td>Calama</td>\n",
       "    </tr>\n",
       "    <tr>\n",
       "      <th>2</th>\n",
       "      <td>19121039</td>\n",
       "      <td>ZSGR</td>\n",
       "      <td>21-02-2019</td>\n",
       "      <td>2</td>\n",
       "      <td>2019</td>\n",
       "      <td>Orden de Servicio Garantia Liviano</td>\n",
       "      <td>10ANSL10</td>\n",
       "      <td>Servicio Liviano</td>\n",
       "      <td>Antofagasta</td>\n",
       "      <td>SL GM Taller</td>\n",
       "      <td>Antofagasta</td>\n",
       "    </tr>\n",
       "    <tr>\n",
       "      <th>3</th>\n",
       "      <td>19121045</td>\n",
       "      <td>ZSGR</td>\n",
       "      <td>14-02-2019</td>\n",
       "      <td>2</td>\n",
       "      <td>2019</td>\n",
       "      <td>Orden de Servicio Garantia Liviano</td>\n",
       "      <td>10MNSL10</td>\n",
       "      <td>Servicio Liviano</td>\n",
       "      <td>Mall Plaza Norte</td>\n",
       "      <td>SL GM Taller</td>\n",
       "      <td>Santiago Mall Plaza Norte</td>\n",
       "    </tr>\n",
       "    <tr>\n",
       "      <th>4</th>\n",
       "      <td>19121050</td>\n",
       "      <td>ZSGR</td>\n",
       "      <td>14-02-2019</td>\n",
       "      <td>2</td>\n",
       "      <td>2019</td>\n",
       "      <td>Orden de Servicio Garantia Liviano</td>\n",
       "      <td>10ROSL30</td>\n",
       "      <td>Servicio Liviano</td>\n",
       "      <td>Rondizzoni</td>\n",
       "      <td>SL GM Camiones</td>\n",
       "      <td>Santiago Rondizzoni</td>\n",
       "    </tr>\n",
       "  </tbody>\n",
       "</table>\n",
       "</div>"
      ],
      "text/plain": [
       "      Orden  Tipo       Fecha  Mes   Año                               Clase  \\\n",
       "0  19121033  ZSGR  14-03-2019    3  2019  Orden de Servicio Garantia Liviano   \n",
       "1  19121038  ZSGR  20-04-2020    4  2020  Orden de Servicio Garantia Liviano   \n",
       "2  19121039  ZSGR  21-02-2019    2  2019  Orden de Servicio Garantia Liviano   \n",
       "3  19121045  ZSGR  14-02-2019    2  2019  Orden de Servicio Garantia Liviano   \n",
       "4  19121050  ZSGR  14-02-2019    2  2019  Orden de Servicio Garantia Liviano   \n",
       "\n",
       "       CEBE                UN               SUC              LN  \\\n",
       "0  10ROSL10  Servicio Liviano        Rondizzoni    SL GM Taller   \n",
       "1  10CASL10  Servicio Liviano            Calama    SL GM Taller   \n",
       "2  10ANSL10  Servicio Liviano       Antofagasta    SL GM Taller   \n",
       "3  10MNSL10  Servicio Liviano  Mall Plaza Norte    SL GM Taller   \n",
       "4  10ROSL30  Servicio Liviano        Rondizzoni  SL GM Camiones   \n",
       "\n",
       "                      Centro  \n",
       "0        Santiago Rondizzoni  \n",
       "1                     Calama  \n",
       "2                Antofagasta  \n",
       "3  Santiago Mall Plaza Norte  \n",
       "4        Santiago Rondizzoni  "
      ]
     },
     "execution_count": 15,
     "metadata": {},
     "output_type": "execute_result"
    }
   ],
   "source": [
    "Facturacion.head()"
   ]
  },
  {
   "cell_type": "code",
   "execution_count": 112,
   "metadata": {
    "scrolled": true
   },
   "outputs": [],
   "source": [
    "Resumen = Facturacion.drop([\"Orden\", \"UN\"],\n",
    "  axis='columns', inplace=False)\n",
    "Resumen = Resumen.drop(\n",
    "  index = Resumen[Resumen[\"Año\"]<2019].index, inplace=False)"
   ]
  },
  {
   "cell_type": "code",
   "execution_count": 113,
   "metadata": {
    "scrolled": false
   },
   "outputs": [
    {
     "data": {
      "text/html": [
       "<div>\n",
       "<style scoped>\n",
       "    .dataframe tbody tr th:only-of-type {\n",
       "        vertical-align: middle;\n",
       "    }\n",
       "\n",
       "    .dataframe tbody tr th {\n",
       "        vertical-align: top;\n",
       "    }\n",
       "\n",
       "    .dataframe thead th {\n",
       "        text-align: right;\n",
       "    }\n",
       "</style>\n",
       "<table border=\"1\" class=\"dataframe\">\n",
       "  <thead>\n",
       "    <tr style=\"text-align: right;\">\n",
       "      <th></th>\n",
       "      <th>Tipo</th>\n",
       "      <th>Fecha</th>\n",
       "      <th>Mes</th>\n",
       "      <th>Año</th>\n",
       "      <th>Clase</th>\n",
       "      <th>CEBE</th>\n",
       "      <th>SUC</th>\n",
       "      <th>LN</th>\n",
       "      <th>Centro</th>\n",
       "    </tr>\n",
       "  </thead>\n",
       "  <tbody>\n",
       "    <tr>\n",
       "      <th>0</th>\n",
       "      <td>ZSGR</td>\n",
       "      <td>14-03-2019</td>\n",
       "      <td>3</td>\n",
       "      <td>2019</td>\n",
       "      <td>Garantia</td>\n",
       "      <td>10ROSL10</td>\n",
       "      <td>Rondizzoni</td>\n",
       "      <td>SL GM Taller</td>\n",
       "      <td>Santiago Rondizzoni</td>\n",
       "    </tr>\n",
       "    <tr>\n",
       "      <th>1</th>\n",
       "      <td>ZSGR</td>\n",
       "      <td>20-04-2020</td>\n",
       "      <td>4</td>\n",
       "      <td>2020</td>\n",
       "      <td>Garantia</td>\n",
       "      <td>10CASL10</td>\n",
       "      <td>Calama</td>\n",
       "      <td>SL GM Taller</td>\n",
       "      <td>Calama</td>\n",
       "    </tr>\n",
       "    <tr>\n",
       "      <th>2</th>\n",
       "      <td>ZSGR</td>\n",
       "      <td>21-02-2019</td>\n",
       "      <td>2</td>\n",
       "      <td>2019</td>\n",
       "      <td>Garantia</td>\n",
       "      <td>10ANSL10</td>\n",
       "      <td>Antofagasta</td>\n",
       "      <td>SL GM Taller</td>\n",
       "      <td>Antofagasta</td>\n",
       "    </tr>\n",
       "    <tr>\n",
       "      <th>3</th>\n",
       "      <td>ZSGR</td>\n",
       "      <td>14-02-2019</td>\n",
       "      <td>2</td>\n",
       "      <td>2019</td>\n",
       "      <td>Garantia</td>\n",
       "      <td>10MNSL10</td>\n",
       "      <td>Mall Plaza Norte</td>\n",
       "      <td>SL GM Taller</td>\n",
       "      <td>Santiago Mall Plaza Norte</td>\n",
       "    </tr>\n",
       "    <tr>\n",
       "      <th>4</th>\n",
       "      <td>ZSGR</td>\n",
       "      <td>14-02-2019</td>\n",
       "      <td>2</td>\n",
       "      <td>2019</td>\n",
       "      <td>Garantia</td>\n",
       "      <td>10ROSL30</td>\n",
       "      <td>Rondizzoni</td>\n",
       "      <td>SL GM Camiones</td>\n",
       "      <td>Santiago Rondizzoni</td>\n",
       "    </tr>\n",
       "  </tbody>\n",
       "</table>\n",
       "</div>"
      ],
      "text/plain": [
       "   Tipo       Fecha  Mes   Año     Clase      CEBE               SUC  \\\n",
       "0  ZSGR  14-03-2019    3  2019  Garantia  10ROSL10        Rondizzoni   \n",
       "1  ZSGR  20-04-2020    4  2020  Garantia  10CASL10            Calama   \n",
       "2  ZSGR  21-02-2019    2  2019  Garantia  10ANSL10       Antofagasta   \n",
       "3  ZSGR  14-02-2019    2  2019  Garantia  10MNSL10  Mall Plaza Norte   \n",
       "4  ZSGR  14-02-2019    2  2019  Garantia  10ROSL30        Rondizzoni   \n",
       "\n",
       "               LN                     Centro  \n",
       "0    SL GM Taller        Santiago Rondizzoni  \n",
       "1    SL GM Taller                     Calama  \n",
       "2    SL GM Taller                Antofagasta  \n",
       "3    SL GM Taller  Santiago Mall Plaza Norte  \n",
       "4  SL GM Camiones        Santiago Rondizzoni  "
      ]
     },
     "execution_count": 113,
     "metadata": {},
     "output_type": "execute_result"
    }
   ],
   "source": [
    "Resumen.head()"
   ]
  },
  {
   "cell_type": "code",
   "execution_count": 114,
   "metadata": {
    "scrolled": true
   },
   "outputs": [
    {
     "data": {
      "text/html": [
       "<div>\n",
       "<style scoped>\n",
       "    .dataframe tbody tr th:only-of-type {\n",
       "        vertical-align: middle;\n",
       "    }\n",
       "\n",
       "    .dataframe tbody tr th {\n",
       "        vertical-align: top;\n",
       "    }\n",
       "\n",
       "    .dataframe thead th {\n",
       "        text-align: right;\n",
       "    }\n",
       "</style>\n",
       "<table border=\"1\" class=\"dataframe\">\n",
       "  <thead>\n",
       "    <tr style=\"text-align: right;\">\n",
       "      <th></th>\n",
       "      <th>count</th>\n",
       "      <th>unique</th>\n",
       "      <th>top</th>\n",
       "      <th>freq</th>\n",
       "      <th>mean</th>\n",
       "      <th>std</th>\n",
       "      <th>min</th>\n",
       "      <th>25%</th>\n",
       "      <th>50%</th>\n",
       "      <th>75%</th>\n",
       "      <th>max</th>\n",
       "    </tr>\n",
       "  </thead>\n",
       "  <tbody>\n",
       "    <tr>\n",
       "      <th>Tipo</th>\n",
       "      <td>81666</td>\n",
       "      <td>2</td>\n",
       "      <td>ZSRL</td>\n",
       "      <td>74232</td>\n",
       "      <td></td>\n",
       "      <td></td>\n",
       "      <td></td>\n",
       "      <td></td>\n",
       "      <td></td>\n",
       "      <td></td>\n",
       "      <td></td>\n",
       "    </tr>\n",
       "    <tr>\n",
       "      <th>Fecha</th>\n",
       "      <td>81666</td>\n",
       "      <td>509</td>\n",
       "      <td>30-09-2019</td>\n",
       "      <td>727</td>\n",
       "      <td></td>\n",
       "      <td></td>\n",
       "      <td></td>\n",
       "      <td></td>\n",
       "      <td></td>\n",
       "      <td></td>\n",
       "      <td></td>\n",
       "    </tr>\n",
       "    <tr>\n",
       "      <th>Mes</th>\n",
       "      <td>81666</td>\n",
       "      <td></td>\n",
       "      <td></td>\n",
       "      <td></td>\n",
       "      <td>5.63463</td>\n",
       "      <td>3.26825</td>\n",
       "      <td>1</td>\n",
       "      <td>3</td>\n",
       "      <td>5</td>\n",
       "      <td>8</td>\n",
       "      <td>12</td>\n",
       "    </tr>\n",
       "    <tr>\n",
       "      <th>Año</th>\n",
       "      <td>81666</td>\n",
       "      <td></td>\n",
       "      <td></td>\n",
       "      <td></td>\n",
       "      <td>2019.36</td>\n",
       "      <td>0.478913</td>\n",
       "      <td>2019</td>\n",
       "      <td>2019</td>\n",
       "      <td>2019</td>\n",
       "      <td>2020</td>\n",
       "      <td>2020</td>\n",
       "    </tr>\n",
       "    <tr>\n",
       "      <th>Clase</th>\n",
       "      <td>81666</td>\n",
       "      <td>2</td>\n",
       "      <td>Reparacion</td>\n",
       "      <td>74232</td>\n",
       "      <td></td>\n",
       "      <td></td>\n",
       "      <td></td>\n",
       "      <td></td>\n",
       "      <td></td>\n",
       "      <td></td>\n",
       "      <td></td>\n",
       "    </tr>\n",
       "    <tr>\n",
       "      <th>CEBE</th>\n",
       "      <td>81666</td>\n",
       "      <td>48</td>\n",
       "      <td>10ROSL10</td>\n",
       "      <td>15668</td>\n",
       "      <td></td>\n",
       "      <td></td>\n",
       "      <td></td>\n",
       "      <td></td>\n",
       "      <td></td>\n",
       "      <td></td>\n",
       "      <td></td>\n",
       "    </tr>\n",
       "    <tr>\n",
       "      <th>SUC</th>\n",
       "      <td>81666</td>\n",
       "      <td>14</td>\n",
       "      <td>Rondizzoni</td>\n",
       "      <td>23883</td>\n",
       "      <td></td>\n",
       "      <td></td>\n",
       "      <td></td>\n",
       "      <td></td>\n",
       "      <td></td>\n",
       "      <td></td>\n",
       "      <td></td>\n",
       "    </tr>\n",
       "    <tr>\n",
       "      <th>LN</th>\n",
       "      <td>81666</td>\n",
       "      <td>7</td>\n",
       "      <td>SL GM Taller</td>\n",
       "      <td>54194</td>\n",
       "      <td></td>\n",
       "      <td></td>\n",
       "      <td></td>\n",
       "      <td></td>\n",
       "      <td></td>\n",
       "      <td></td>\n",
       "      <td></td>\n",
       "    </tr>\n",
       "    <tr>\n",
       "      <th>Centro</th>\n",
       "      <td>81666</td>\n",
       "      <td>16</td>\n",
       "      <td>Santiago Rondizzoni</td>\n",
       "      <td>23722</td>\n",
       "      <td></td>\n",
       "      <td></td>\n",
       "      <td></td>\n",
       "      <td></td>\n",
       "      <td></td>\n",
       "      <td></td>\n",
       "      <td></td>\n",
       "    </tr>\n",
       "  </tbody>\n",
       "</table>\n",
       "</div>"
      ],
      "text/plain": [
       "        count unique                  top   freq     mean       std   min  \\\n",
       "Tipo    81666      2                 ZSRL  74232                            \n",
       "Fecha   81666    509           30-09-2019    727                            \n",
       "Mes     81666                                     5.63463   3.26825     1   \n",
       "Año     81666                                     2019.36  0.478913  2019   \n",
       "Clase   81666      2           Reparacion  74232                            \n",
       "CEBE    81666     48             10ROSL10  15668                            \n",
       "SUC     81666     14           Rondizzoni  23883                            \n",
       "LN      81666      7         SL GM Taller  54194                            \n",
       "Centro  81666     16  Santiago Rondizzoni  23722                            \n",
       "\n",
       "         25%   50%   75%   max  \n",
       "Tipo                            \n",
       "Fecha                           \n",
       "Mes        3     5     8    12  \n",
       "Año     2019  2019  2020  2020  \n",
       "Clase                           \n",
       "CEBE                            \n",
       "SUC                             \n",
       "LN                              \n",
       "Centro                          "
      ]
     },
     "execution_count": 114,
     "metadata": {},
     "output_type": "execute_result"
    }
   ],
   "source": [
    "Resumen.describe(include=\"all\").fillna(\"\").T"
   ]
  },
  {
   "cell_type": "code",
   "execution_count": 115,
   "metadata": {
    "scrolled": false
   },
   "outputs": [
    {
     "data": {
      "text/html": [
       "<div>\n",
       "<style scoped>\n",
       "    .dataframe tbody tr th:only-of-type {\n",
       "        vertical-align: middle;\n",
       "    }\n",
       "\n",
       "    .dataframe tbody tr th {\n",
       "        vertical-align: top;\n",
       "    }\n",
       "\n",
       "    .dataframe thead tr th {\n",
       "        text-align: left;\n",
       "    }\n",
       "\n",
       "    .dataframe thead tr:last-of-type th {\n",
       "        text-align: right;\n",
       "    }\n",
       "</style>\n",
       "<table border=\"1\" class=\"dataframe\">\n",
       "  <thead>\n",
       "    <tr>\n",
       "      <th></th>\n",
       "      <th colspan=\"10\" halign=\"left\">CEBE</th>\n",
       "      <th>...</th>\n",
       "      <th colspan=\"10\" halign=\"left\">Tipo</th>\n",
       "    </tr>\n",
       "    <tr>\n",
       "      <th>Centro</th>\n",
       "      <th>Antofagasta</th>\n",
       "      <th>Calama</th>\n",
       "      <th>Calama S. Pesado</th>\n",
       "      <th>Concepcion</th>\n",
       "      <th>Copiapo</th>\n",
       "      <th>Iquique</th>\n",
       "      <th>Iquique Alto Hospicio</th>\n",
       "      <th>La Serena</th>\n",
       "      <th>La Serena Norte</th>\n",
       "      <th>Santiago Mall Plaza Norte</th>\n",
       "      <th>...</th>\n",
       "      <th>Iquique Alto Hospicio</th>\n",
       "      <th>La Serena</th>\n",
       "      <th>La Serena Norte</th>\n",
       "      <th>Santiago Mall Plaza Norte</th>\n",
       "      <th>Santiago Ossa</th>\n",
       "      <th>Santiago Paine</th>\n",
       "      <th>Santiago Rondizzoni</th>\n",
       "      <th>Santiago Ruta 68</th>\n",
       "      <th>Santiago Vespucio</th>\n",
       "      <th>Temuco</th>\n",
       "    </tr>\n",
       "    <tr>\n",
       "      <th>Año</th>\n",
       "      <th></th>\n",
       "      <th></th>\n",
       "      <th></th>\n",
       "      <th></th>\n",
       "      <th></th>\n",
       "      <th></th>\n",
       "      <th></th>\n",
       "      <th></th>\n",
       "      <th></th>\n",
       "      <th></th>\n",
       "      <th></th>\n",
       "      <th></th>\n",
       "      <th></th>\n",
       "      <th></th>\n",
       "      <th></th>\n",
       "      <th></th>\n",
       "      <th></th>\n",
       "      <th></th>\n",
       "      <th></th>\n",
       "      <th></th>\n",
       "      <th></th>\n",
       "    </tr>\n",
       "  </thead>\n",
       "  <tbody>\n",
       "    <tr>\n",
       "      <th>2019</th>\n",
       "      <td>6797.0</td>\n",
       "      <td>2498.0</td>\n",
       "      <td>2795.0</td>\n",
       "      <td>2161.0</td>\n",
       "      <td>3027.0</td>\n",
       "      <td>1642.0</td>\n",
       "      <td>1501.0</td>\n",
       "      <td>2947.0</td>\n",
       "      <td>1421.0</td>\n",
       "      <td>2109.0</td>\n",
       "      <td>...</td>\n",
       "      <td>1501.0</td>\n",
       "      <td>2947.0</td>\n",
       "      <td>1421.0</td>\n",
       "      <td>2109.0</td>\n",
       "      <td>408.0</td>\n",
       "      <td>1357.0</td>\n",
       "      <td>17058.0</td>\n",
       "      <td>551.0</td>\n",
       "      <td>531.0</td>\n",
       "      <td>5764.0</td>\n",
       "    </tr>\n",
       "    <tr>\n",
       "      <th>2020</th>\n",
       "      <td>4940.0</td>\n",
       "      <td>1559.0</td>\n",
       "      <td>1697.0</td>\n",
       "      <td>1820.0</td>\n",
       "      <td>1455.0</td>\n",
       "      <td>950.0</td>\n",
       "      <td>1141.0</td>\n",
       "      <td>1845.0</td>\n",
       "      <td>757.0</td>\n",
       "      <td>705.0</td>\n",
       "      <td>...</td>\n",
       "      <td>1141.0</td>\n",
       "      <td>1845.0</td>\n",
       "      <td>757.0</td>\n",
       "      <td>705.0</td>\n",
       "      <td>NaN</td>\n",
       "      <td>1343.0</td>\n",
       "      <td>6664.0</td>\n",
       "      <td>1524.0</td>\n",
       "      <td>2.0</td>\n",
       "      <td>2697.0</td>\n",
       "    </tr>\n",
       "  </tbody>\n",
       "</table>\n",
       "<p>2 rows × 112 columns</p>\n",
       "</div>"
      ],
      "text/plain": [
       "              CEBE                                                      \\\n",
       "Centro Antofagasta  Calama Calama S. Pesado Concepcion Copiapo Iquique   \n",
       "Año                                                                      \n",
       "2019        6797.0  2498.0           2795.0     2161.0  3027.0  1642.0   \n",
       "2020        4940.0  1559.0           1697.0     1820.0  1455.0   950.0   \n",
       "\n",
       "                                                        \\\n",
       "Centro Iquique Alto Hospicio La Serena La Serena Norte   \n",
       "Año                                                      \n",
       "2019                  1501.0    2947.0          1421.0   \n",
       "2020                  1141.0    1845.0           757.0   \n",
       "\n",
       "                                  ...                  Tipo            \\\n",
       "Centro Santiago Mall Plaza Norte  ... Iquique Alto Hospicio La Serena   \n",
       "Año                               ...                                   \n",
       "2019                      2109.0  ...                1501.0    2947.0   \n",
       "2020                       705.0  ...                1141.0    1845.0   \n",
       "\n",
       "                                                                               \\\n",
       "Centro La Serena Norte Santiago Mall Plaza Norte Santiago Ossa Santiago Paine   \n",
       "Año                                                                             \n",
       "2019            1421.0                    2109.0         408.0         1357.0   \n",
       "2020             757.0                     705.0           NaN         1343.0   \n",
       "\n",
       "                                                                       \n",
       "Centro Santiago Rondizzoni Santiago Ruta 68 Santiago Vespucio  Temuco  \n",
       "Año                                                                    \n",
       "2019               17058.0            551.0             531.0  5764.0  \n",
       "2020                6664.0           1524.0               2.0  2697.0  \n",
       "\n",
       "[2 rows x 112 columns]"
      ]
     },
     "execution_count": 115,
     "metadata": {},
     "output_type": "execute_result"
    }
   ],
   "source": [
    "Resumen.pivot_table(index='Año',columns='Centro',aggfunc='count')\n",
    "#,aggfunc=lambda x: len(x.unique()) "
   ]
  },
  {
   "cell_type": "code",
   "execution_count": 131,
   "metadata": {
    "scrolled": false
   },
   "outputs": [
    {
     "data": {
      "text/plain": [
       "array(['SL GM Taller', 'SL GM Camiones', 'SL GM Tapide',\n",
       "       'SL GM Taller para RAC', 'SL SK Taller'], dtype=object)"
      ]
     },
     "execution_count": 131,
     "metadata": {},
     "output_type": "execute_result"
    }
   ],
   "source": [
    "Santiago_Rondizzoni = Resumen.loc[Facturacion['Centro'] == 'Santiago Rondizzoni']\n",
    "#Santiago_Rondizzoni[\"SUC\"].unique()\n",
    "#len(Santiago_Rondizzoni)\n",
    "Santiago_Rondizzoni[\"LN\"].unique()[]"
   ]
  },
  {
   "cell_type": "code",
   "execution_count": 137,
   "metadata": {},
   "outputs": [],
   "source": [
    "Santiago_Rondizzoni_GM = Santiago_Rondizzoni.drop(\n",
    "  index = Santiago_Rondizzoni[Santiago_Rondizzoni[\"LN\"] == \"SL SK Taller\"].index, inplace=False)"
   ]
  },
  {
   "cell_type": "code",
   "execution_count": 145,
   "metadata": {
    "scrolled": false
   },
   "outputs": [
    {
     "data": {
      "text/plain": [
       "Text(0.5, 1.0, 'OT Reparación Centro Rondizzoni 2020')"
      ]
     },
     "execution_count": 145,
     "metadata": {},
     "output_type": "execute_result"
    },
    {
     "data": {
      "image/png": "[encoded data removed]",
      "text/plain": [
       "<Figure size 1296x864 with 4 Axes>"
      ]
     },
     "metadata": {},
     "output_type": "display_data"
    }
   ],
   "source": [
    "Santiago_Rondizzoni_GM\n",
    "\n",
    "MPN_Garantia = Santiago_Rondizzoni_GM.loc[Santiago_Rondizzoni_GM['Clase'] =='Garantia']\n",
    "MPN_Reparacion = Santiago_Rondizzoni_GM.loc[Santiago_Rondizzoni_GM['Clase'] =='Reparacion']\n",
    "\n",
    "\n",
    "MPNG19 = MPN_Garantia.loc[MPN_Garantia['Año'] == 2019]\n",
    "MPNG20 = MPN_Garantia.loc[MPN_Garantia['Año'] == 2020]\n",
    "\n",
    "MPNR19 = MPN_Reparacion.loc[MPN_Reparacion['Año'] == 2019]\n",
    "MPNR20 = MPN_Reparacion.loc[MPN_Reparacion['Año'] == 2020]\n",
    "\n",
    "sns.set(rc={'figure.figsize':(18,12)})\n",
    "\n",
    "fig3 = plt.figure(constrained_layout=True)\n",
    "spec3 = gridspec.GridSpec(ncols=2, nrows=2, figure=fig3)\n",
    "f3_ax1 = fig3.add_subplot(spec3[0, 0])\n",
    "f3_ax2 = fig3.add_subplot(spec3[0, 1])\n",
    "f3_ax3 = fig3.add_subplot(spec3[1, 0])\n",
    "f3_ax4 = fig3.add_subplot(spec3[1, 1])\n",
    "\n",
    "\n",
    "sns.countplot(x='Mes',data=MPNG19, palette=meses_colors, ax=f3_ax1).set_title(\"OT Garantía Centro Rondizzoni 2019\")\n",
    "sns.countplot(x='Mes',data=MPNG20, palette=meses_colors, ax=f3_ax2).set_title(\"OT Garantía Centro Rondizzoni 2020\")\n",
    "sns.countplot(x='Mes',data=MPNR19, palette=meses_colors, ax=f3_ax3).set_title(\"OT Reparación Centro Rondizzoni 2019\")\n",
    "sns.countplot(x='Mes',data=MPNR20, palette=meses_colors, ax=f3_ax4).set_title(\"OT Reparación Centro Rondizzoni 2020\")"
   ]
  },
  {
   "cell_type": "markdown",
   "metadata": {},
   "source": [
    "Resumen de cada sucursal por cantidad mensual "
   ]
  },
  {
   "cell_type": "code",
   "execution_count": 176,
   "metadata": {
    "collapsed": true
   },
   "outputs": [
    {
     "ename": "KeyError",
     "evalue": "\"['CEBE' 'LN' 'Fecha' 'Tipo'] not found in axis\"",
     "output_type": "error",
     "traceback": [
      "\u001b[1;31m---------------------------------------------------------------------------\u001b[0m",
      "\u001b[1;31mKeyError\u001b[0m                                  Traceback (most recent call last)",
      "\u001b[1;32m<ipython-input-176-01ffb3e8b92a>\u001b[0m in \u001b[0;36m<module>\u001b[1;34m\u001b[0m\n\u001b[0;32m      1\u001b[0m \u001b[1;31m#Santiago_Rondizzoni_GM[Santiago_Rondizzoni_GM[\"Año\"] == 2019]\u001b[0m\u001b[1;33m\u001b[0m\u001b[1;33m\u001b[0m\u001b[1;33m\u001b[0m\u001b[0m\n\u001b[1;32m----> 2\u001b[1;33m \u001b[0mSantiago_Rondizzoni_GM\u001b[0m \u001b[1;33m=\u001b[0m \u001b[0mSantiago_Rondizzoni_GM\u001b[0m\u001b[1;33m.\u001b[0m\u001b[0mdrop\u001b[0m\u001b[1;33m(\u001b[0m\u001b[1;33m[\u001b[0m\u001b[1;34m\"CEBE\"\u001b[0m\u001b[1;33m,\u001b[0m \u001b[1;34m\"LN\"\u001b[0m\u001b[1;33m,\u001b[0m \u001b[1;34m\"Fecha\"\u001b[0m\u001b[1;33m,\u001b[0m \u001b[1;34m\"Tipo\"\u001b[0m\u001b[1;33m]\u001b[0m\u001b[1;33m,\u001b[0m\u001b[0maxis\u001b[0m\u001b[1;33m=\u001b[0m\u001b[1;34m'columns'\u001b[0m\u001b[1;33m,\u001b[0m \u001b[0minplace\u001b[0m\u001b[1;33m=\u001b[0m\u001b[1;32mFalse\u001b[0m\u001b[1;33m)\u001b[0m\u001b[1;33m\u001b[0m\u001b[1;33m\u001b[0m\u001b[0m\n\u001b[0m\u001b[0;32m      3\u001b[0m \u001b[1;31m#K = Santiago_Rondizzoni_GM[Santiago_Rondizzoni_GM[\"Año\"] == 2019]\u001b[0m\u001b[1;33m\u001b[0m\u001b[1;33m\u001b[0m\u001b[1;33m\u001b[0m\u001b[0m\n\u001b[0;32m      4\u001b[0m \u001b[1;33m\u001b[0m\u001b[0m\n\u001b[0;32m      5\u001b[0m \u001b[0mSantiago_Rondizzoni_GM\u001b[0m\u001b[1;33m.\u001b[0m\u001b[0mpivot_table\u001b[0m\u001b[1;33m(\u001b[0m\u001b[0mindex\u001b[0m\u001b[1;33m=\u001b[0m\u001b[1;34m'Año'\u001b[0m\u001b[1;33m,\u001b[0m\u001b[0mcolumns\u001b[0m\u001b[1;33m=\u001b[0m\u001b[1;34m'Mes'\u001b[0m\u001b[1;33m,\u001b[0m\u001b[0maggfunc\u001b[0m\u001b[1;33m=\u001b[0m\u001b[1;34m'count'\u001b[0m\u001b[1;33m)\u001b[0m\u001b[1;33m\u001b[0m\u001b[1;33m\u001b[0m\u001b[0m\n",
      "\u001b[1;32m~\\miniconda3\\envs\\mat281\\lib\\site-packages\\pandas\\core\\frame.py\u001b[0m in \u001b[0;36mdrop\u001b[1;34m(self, labels, axis, index, columns, level, inplace, errors)\u001b[0m\n\u001b[0;32m   4165\u001b[0m             \u001b[0mlevel\u001b[0m\u001b[1;33m=\u001b[0m\u001b[0mlevel\u001b[0m\u001b[1;33m,\u001b[0m\u001b[1;33m\u001b[0m\u001b[1;33m\u001b[0m\u001b[0m\n\u001b[0;32m   4166\u001b[0m             \u001b[0minplace\u001b[0m\u001b[1;33m=\u001b[0m\u001b[0minplace\u001b[0m\u001b[1;33m,\u001b[0m\u001b[1;33m\u001b[0m\u001b[1;33m\u001b[0m\u001b[0m\n\u001b[1;32m-> 4167\u001b[1;33m             \u001b[0merrors\u001b[0m\u001b[1;33m=\u001b[0m\u001b[0merrors\u001b[0m\u001b[1;33m,\u001b[0m\u001b[1;33m\u001b[0m\u001b[1;33m\u001b[0m\u001b[0m\n\u001b[0m\u001b[0;32m   4168\u001b[0m         )\n\u001b[0;32m   4169\u001b[0m \u001b[1;33m\u001b[0m\u001b[0m\n",
      "\u001b[1;32m~\\miniconda3\\envs\\mat281\\lib\\site-packages\\pandas\\core\\generic.py\u001b[0m in \u001b[0;36mdrop\u001b[1;34m(self, labels, axis, index, columns, level, inplace, errors)\u001b[0m\n\u001b[0;32m   3876\u001b[0m         \u001b[1;32mfor\u001b[0m \u001b[0maxis\u001b[0m\u001b[1;33m,\u001b[0m \u001b[0mlabels\u001b[0m \u001b[1;32min\u001b[0m \u001b[0maxes\u001b[0m\u001b[1;33m.\u001b[0m\u001b[0mitems\u001b[0m\u001b[1;33m(\u001b[0m\u001b[1;33m)\u001b[0m\u001b[1;33m:\u001b[0m\u001b[1;33m\u001b[0m\u001b[1;33m\u001b[0m\u001b[0m\n\u001b[0;32m   3877\u001b[0m             \u001b[1;32mif\u001b[0m \u001b[0mlabels\u001b[0m \u001b[1;32mis\u001b[0m \u001b[1;32mnot\u001b[0m \u001b[1;32mNone\u001b[0m\u001b[1;33m:\u001b[0m\u001b[1;33m\u001b[0m\u001b[1;33m\u001b[0m\u001b[0m\n\u001b[1;32m-> 3878\u001b[1;33m                 \u001b[0mobj\u001b[0m \u001b[1;33m=\u001b[0m \u001b[0mobj\u001b[0m\u001b[1;33m.\u001b[0m\u001b[0m_drop_axis\u001b[0m\u001b[1;33m(\u001b[0m\u001b[0mlabels\u001b[0m\u001b[1;33m,\u001b[0m \u001b[0maxis\u001b[0m\u001b[1;33m,\u001b[0m \u001b[0mlevel\u001b[0m\u001b[1;33m=\u001b[0m\u001b[0mlevel\u001b[0m\u001b[1;33m,\u001b[0m \u001b[0merrors\u001b[0m\u001b[1;33m=\u001b[0m\u001b[0merrors\u001b[0m\u001b[1;33m)\u001b[0m\u001b[1;33m\u001b[0m\u001b[1;33m\u001b[0m\u001b[0m\n\u001b[0m\u001b[0;32m   3879\u001b[0m \u001b[1;33m\u001b[0m\u001b[0m\n\u001b[0;32m   3880\u001b[0m         \u001b[1;32mif\u001b[0m \u001b[0minplace\u001b[0m\u001b[1;33m:\u001b[0m\u001b[1;33m\u001b[0m\u001b[1;33m\u001b[0m\u001b[0m\n",
      "\u001b[1;32m~\\miniconda3\\envs\\mat281\\lib\\site-packages\\pandas\\core\\generic.py\u001b[0m in \u001b[0;36m_drop_axis\u001b[1;34m(self, labels, axis, level, errors)\u001b[0m\n\u001b[0;32m   3910\u001b[0m                 \u001b[0mnew_axis\u001b[0m \u001b[1;33m=\u001b[0m \u001b[0maxis\u001b[0m\u001b[1;33m.\u001b[0m\u001b[0mdrop\u001b[0m\u001b[1;33m(\u001b[0m\u001b[0mlabels\u001b[0m\u001b[1;33m,\u001b[0m \u001b[0mlevel\u001b[0m\u001b[1;33m=\u001b[0m\u001b[0mlevel\u001b[0m\u001b[1;33m,\u001b[0m \u001b[0merrors\u001b[0m\u001b[1;33m=\u001b[0m\u001b[0merrors\u001b[0m\u001b[1;33m)\u001b[0m\u001b[1;33m\u001b[0m\u001b[1;33m\u001b[0m\u001b[0m\n\u001b[0;32m   3911\u001b[0m             \u001b[1;32melse\u001b[0m\u001b[1;33m:\u001b[0m\u001b[1;33m\u001b[0m\u001b[1;33m\u001b[0m\u001b[0m\n\u001b[1;32m-> 3912\u001b[1;33m                 \u001b[0mnew_axis\u001b[0m \u001b[1;33m=\u001b[0m \u001b[0maxis\u001b[0m\u001b[1;33m.\u001b[0m\u001b[0mdrop\u001b[0m\u001b[1;33m(\u001b[0m\u001b[0mlabels\u001b[0m\u001b[1;33m,\u001b[0m \u001b[0merrors\u001b[0m\u001b[1;33m=\u001b[0m\u001b[0merrors\u001b[0m\u001b[1;33m)\u001b[0m\u001b[1;33m\u001b[0m\u001b[1;33m\u001b[0m\u001b[0m\n\u001b[0m\u001b[0;32m   3913\u001b[0m             \u001b[0mresult\u001b[0m \u001b[1;33m=\u001b[0m \u001b[0mself\u001b[0m\u001b[1;33m.\u001b[0m\u001b[0mreindex\u001b[0m\u001b[1;33m(\u001b[0m\u001b[1;33m**\u001b[0m\u001b[1;33m{\u001b[0m\u001b[0maxis_name\u001b[0m\u001b[1;33m:\u001b[0m \u001b[0mnew_axis\u001b[0m\u001b[1;33m}\u001b[0m\u001b[1;33m)\u001b[0m\u001b[1;33m\u001b[0m\u001b[1;33m\u001b[0m\u001b[0m\n\u001b[0;32m   3914\u001b[0m \u001b[1;33m\u001b[0m\u001b[0m\n",
      "\u001b[1;32m~\\miniconda3\\envs\\mat281\\lib\\site-packages\\pandas\\core\\indexes\\base.py\u001b[0m in \u001b[0;36mdrop\u001b[1;34m(self, labels, errors)\u001b[0m\n\u001b[0;32m   5274\u001b[0m         \u001b[1;32mif\u001b[0m \u001b[0mmask\u001b[0m\u001b[1;33m.\u001b[0m\u001b[0many\u001b[0m\u001b[1;33m(\u001b[0m\u001b[1;33m)\u001b[0m\u001b[1;33m:\u001b[0m\u001b[1;33m\u001b[0m\u001b[1;33m\u001b[0m\u001b[0m\n\u001b[0;32m   5275\u001b[0m             \u001b[1;32mif\u001b[0m \u001b[0merrors\u001b[0m \u001b[1;33m!=\u001b[0m \u001b[1;34m\"ignore\"\u001b[0m\u001b[1;33m:\u001b[0m\u001b[1;33m\u001b[0m\u001b[1;33m\u001b[0m\u001b[0m\n\u001b[1;32m-> 5276\u001b[1;33m                 \u001b[1;32mraise\u001b[0m \u001b[0mKeyError\u001b[0m\u001b[1;33m(\u001b[0m\u001b[1;34mf\"{labels[mask]} not found in axis\"\u001b[0m\u001b[1;33m)\u001b[0m\u001b[1;33m\u001b[0m\u001b[1;33m\u001b[0m\u001b[0m\n\u001b[0m\u001b[0;32m   5277\u001b[0m             \u001b[0mindexer\u001b[0m \u001b[1;33m=\u001b[0m \u001b[0mindexer\u001b[0m\u001b[1;33m[\u001b[0m\u001b[1;33m~\u001b[0m\u001b[0mmask\u001b[0m\u001b[1;33m]\u001b[0m\u001b[1;33m\u001b[0m\u001b[1;33m\u001b[0m\u001b[0m\n\u001b[0;32m   5278\u001b[0m         \u001b[1;32mreturn\u001b[0m \u001b[0mself\u001b[0m\u001b[1;33m.\u001b[0m\u001b[0mdelete\u001b[0m\u001b[1;33m(\u001b[0m\u001b[0mindexer\u001b[0m\u001b[1;33m)\u001b[0m\u001b[1;33m\u001b[0m\u001b[1;33m\u001b[0m\u001b[0m\n",
      "\u001b[1;31mKeyError\u001b[0m: \"['CEBE' 'LN' 'Fecha' 'Tipo'] not found in axis\""
     ]
    }
   ],
   "source": [
    "#Santiago_Rondizzoni_GM[Santiago_Rondizzoni_GM[\"Año\"] == 2019]\n",
    "Santiago_Rondizzoni_GM = Santiago_Rondizzoni_GM.drop([\"CEBE\", \"LN\", \"Fecha\", \"Tipo\"],axis='columns', inplace=False)\n",
    "#K = Santiago_Rondizzoni_GM[Santiago_Rondizzoni_GM[\"Año\"] == 2019]\n",
    "\n",
    "Santiago_Rondizzoni_GM.pivot_table(index='Año',columns='Mes',aggfunc='count')\n",
    "              #,aggfunc='count')\n",
    "#Santiago_Rondizzoni_GM    \n",
    "    "
   ]
  },
  {
   "cell_type": "code",
   "execution_count": 188,
   "metadata": {},
   "outputs": [],
   "source": [
    "Resumen = Resumen.drop([\"Tipo\", \"Fecha\", \"CEBE\"], axis='columns', inplace=False )"
   ]
  },
  {
   "cell_type": "code",
   "execution_count": 191,
   "metadata": {},
   "outputs": [
    {
     "data": {
      "text/plain": [
       "array(['SL GM Taller', 'SL GM Camiones', 'SL GM Tapide',\n",
       "       'SL GM Pre-Entrega', 'SL GM Taller para RAC'], dtype=object)"
      ]
     },
     "execution_count": 191,
     "metadata": {},
     "output_type": "execute_result"
    }
   ],
   "source": [
    "Resumen= Resumen.drop(\n",
    "  index = Resumen[Resumen[\"LN\"] == \"SL SK Taller\"].index, inplace=False)\n",
    "Resumen= Resumen.drop(\n",
    "  index = Resumen[Resumen[\"LN\"] == \"SL Nissan Taller\"].index, inplace=False)\n",
    "Resumen[\"LN\"].unique()"
   ]
  },
  {
   "cell_type": "code",
   "execution_count": 193,
   "metadata": {},
   "outputs": [],
   "source": [
    "Resumen= Resumen.drop(\"LN\", axis='columns', inplace=False)"
   ]
  },
  {
   "cell_type": "code",
   "execution_count": 196,
   "metadata": {
    "scrolled": false
   },
   "outputs": [
    {
     "data": {
      "text/html": [
       "<div>\n",
       "<style scoped>\n",
       "    .dataframe tbody tr th:only-of-type {\n",
       "        vertical-align: middle;\n",
       "    }\n",
       "\n",
       "    .dataframe tbody tr th {\n",
       "        vertical-align: top;\n",
       "    }\n",
       "\n",
       "    .dataframe thead th {\n",
       "        text-align: right;\n",
       "    }\n",
       "</style>\n",
       "<table border=\"1\" class=\"dataframe\">\n",
       "  <thead>\n",
       "    <tr style=\"text-align: right;\">\n",
       "      <th></th>\n",
       "      <th>Mes</th>\n",
       "      <th>Año</th>\n",
       "      <th>Clase</th>\n",
       "      <th>SUC</th>\n",
       "      <th>Centro</th>\n",
       "    </tr>\n",
       "  </thead>\n",
       "  <tbody>\n",
       "    <tr>\n",
       "      <th>0</th>\n",
       "      <td>3</td>\n",
       "      <td>2019</td>\n",
       "      <td>Garantia</td>\n",
       "      <td>Rondizzoni</td>\n",
       "      <td>Santiago Rondizzoni</td>\n",
       "    </tr>\n",
       "    <tr>\n",
       "      <th>1</th>\n",
       "      <td>4</td>\n",
       "      <td>2020</td>\n",
       "      <td>Garantia</td>\n",
       "      <td>Calama</td>\n",
       "      <td>Calama</td>\n",
       "    </tr>\n",
       "    <tr>\n",
       "      <th>2</th>\n",
       "      <td>2</td>\n",
       "      <td>2019</td>\n",
       "      <td>Garantia</td>\n",
       "      <td>Antofagasta</td>\n",
       "      <td>Antofagasta</td>\n",
       "    </tr>\n",
       "    <tr>\n",
       "      <th>3</th>\n",
       "      <td>2</td>\n",
       "      <td>2019</td>\n",
       "      <td>Garantia</td>\n",
       "      <td>Mall Plaza Norte</td>\n",
       "      <td>Santiago Mall Plaza Norte</td>\n",
       "    </tr>\n",
       "    <tr>\n",
       "      <th>4</th>\n",
       "      <td>2</td>\n",
       "      <td>2019</td>\n",
       "      <td>Garantia</td>\n",
       "      <td>Rondizzoni</td>\n",
       "      <td>Santiago Rondizzoni</td>\n",
       "    </tr>\n",
       "    <tr>\n",
       "      <th>...</th>\n",
       "      <td>...</td>\n",
       "      <td>...</td>\n",
       "      <td>...</td>\n",
       "      <td>...</td>\n",
       "      <td>...</td>\n",
       "    </tr>\n",
       "    <tr>\n",
       "      <th>81662</th>\n",
       "      <td>8</td>\n",
       "      <td>2020</td>\n",
       "      <td>Reparacion</td>\n",
       "      <td>Rondizzoni</td>\n",
       "      <td>Santiago Rondizzoni</td>\n",
       "    </tr>\n",
       "    <tr>\n",
       "      <th>81663</th>\n",
       "      <td>8</td>\n",
       "      <td>2020</td>\n",
       "      <td>Reparacion</td>\n",
       "      <td>Rondizzoni</td>\n",
       "      <td>Santiago Rondizzoni</td>\n",
       "    </tr>\n",
       "    <tr>\n",
       "      <th>81664</th>\n",
       "      <td>8</td>\n",
       "      <td>2020</td>\n",
       "      <td>Reparacion</td>\n",
       "      <td>Rondizzoni</td>\n",
       "      <td>Santiago Rondizzoni</td>\n",
       "    </tr>\n",
       "    <tr>\n",
       "      <th>81665</th>\n",
       "      <td>8</td>\n",
       "      <td>2020</td>\n",
       "      <td>Reparacion</td>\n",
       "      <td>Rondizzoni</td>\n",
       "      <td>Santiago Rondizzoni</td>\n",
       "    </tr>\n",
       "    <tr>\n",
       "      <th>81666</th>\n",
       "      <td>8</td>\n",
       "      <td>2020</td>\n",
       "      <td>Reparacion</td>\n",
       "      <td>Rondizzoni</td>\n",
       "      <td>Santiago Rondizzoni</td>\n",
       "    </tr>\n",
       "  </tbody>\n",
       "</table>\n",
       "<p>73486 rows × 5 columns</p>\n",
       "</div>"
      ],
      "text/plain": [
       "       Mes   Año       Clase               SUC                     Centro\n",
       "0        3  2019    Garantia        Rondizzoni        Santiago Rondizzoni\n",
       "1        4  2020    Garantia            Calama                     Calama\n",
       "2        2  2019    Garantia       Antofagasta                Antofagasta\n",
       "3        2  2019    Garantia  Mall Plaza Norte  Santiago Mall Plaza Norte\n",
       "4        2  2019    Garantia        Rondizzoni        Santiago Rondizzoni\n",
       "...    ...   ...         ...               ...                        ...\n",
       "81662    8  2020  Reparacion        Rondizzoni        Santiago Rondizzoni\n",
       "81663    8  2020  Reparacion        Rondizzoni        Santiago Rondizzoni\n",
       "81664    8  2020  Reparacion        Rondizzoni        Santiago Rondizzoni\n",
       "81665    8  2020  Reparacion        Rondizzoni        Santiago Rondizzoni\n",
       "81666    8  2020  Reparacion        Rondizzoni        Santiago Rondizzoni\n",
       "\n",
       "[73486 rows x 5 columns]"
      ]
     },
     "execution_count": 196,
     "metadata": {},
     "output_type": "execute_result"
    }
   ],
   "source": [
    "Resumen"
   ]
  },
  {
   "cell_type": "code",
   "execution_count": 205,
   "metadata": {
    "scrolled": false
   },
   "outputs": [],
   "source": [
    "Resumen = Resumen.drop([\"Clase\", \"SUC\"], axis='columns')"
   ]
  },
  {
   "cell_type": "code",
   "execution_count": 216,
   "metadata": {},
   "outputs": [
    {
     "data": {
      "text/html": [
       "<div>\n",
       "<style scoped>\n",
       "    .dataframe tbody tr th:only-of-type {\n",
       "        vertical-align: middle;\n",
       "    }\n",
       "\n",
       "    .dataframe tbody tr th {\n",
       "        vertical-align: top;\n",
       "    }\n",
       "\n",
       "    .dataframe thead th {\n",
       "        text-align: right;\n",
       "    }\n",
       "</style>\n",
       "<table border=\"1\" class=\"dataframe\">\n",
       "  <thead>\n",
       "    <tr style=\"text-align: right;\">\n",
       "      <th></th>\n",
       "      <th>Mes</th>\n",
       "      <th>Año</th>\n",
       "      <th>Centro</th>\n",
       "    </tr>\n",
       "  </thead>\n",
       "  <tbody>\n",
       "    <tr>\n",
       "      <th>1</th>\n",
       "      <td>4</td>\n",
       "      <td>2020</td>\n",
       "      <td>Calama</td>\n",
       "    </tr>\n",
       "    <tr>\n",
       "      <th>31</th>\n",
       "      <td>4</td>\n",
       "      <td>2019</td>\n",
       "      <td>Calama</td>\n",
       "    </tr>\n",
       "    <tr>\n",
       "      <th>54</th>\n",
       "      <td>1</td>\n",
       "      <td>2019</td>\n",
       "      <td>Calama</td>\n",
       "    </tr>\n",
       "    <tr>\n",
       "      <th>84</th>\n",
       "      <td>1</td>\n",
       "      <td>2019</td>\n",
       "      <td>Calama</td>\n",
       "    </tr>\n",
       "    <tr>\n",
       "      <th>91</th>\n",
       "      <td>3</td>\n",
       "      <td>2019</td>\n",
       "      <td>Calama</td>\n",
       "    </tr>\n",
       "    <tr>\n",
       "      <th>...</th>\n",
       "      <td>...</td>\n",
       "      <td>...</td>\n",
       "      <td>...</td>\n",
       "    </tr>\n",
       "    <tr>\n",
       "      <th>81461</th>\n",
       "      <td>8</td>\n",
       "      <td>2020</td>\n",
       "      <td>Calama</td>\n",
       "    </tr>\n",
       "    <tr>\n",
       "      <th>81462</th>\n",
       "      <td>8</td>\n",
       "      <td>2020</td>\n",
       "      <td>Calama</td>\n",
       "    </tr>\n",
       "    <tr>\n",
       "      <th>81463</th>\n",
       "      <td>8</td>\n",
       "      <td>2020</td>\n",
       "      <td>Calama</td>\n",
       "    </tr>\n",
       "    <tr>\n",
       "      <th>81523</th>\n",
       "      <td>8</td>\n",
       "      <td>2020</td>\n",
       "      <td>Calama</td>\n",
       "    </tr>\n",
       "    <tr>\n",
       "      <th>81524</th>\n",
       "      <td>8</td>\n",
       "      <td>2020</td>\n",
       "      <td>Calama</td>\n",
       "    </tr>\n",
       "  </tbody>\n",
       "</table>\n",
       "<p>2037 rows × 3 columns</p>\n",
       "</div>"
      ],
      "text/plain": [
       "       Mes   Año  Centro\n",
       "1        4  2020  Calama\n",
       "31       4  2019  Calama\n",
       "54       1  2019  Calama\n",
       "84       1  2019  Calama\n",
       "91       3  2019  Calama\n",
       "...    ...   ...     ...\n",
       "81461    8  2020  Calama\n",
       "81462    8  2020  Calama\n",
       "81463    8  2020  Calama\n",
       "81523    8  2020  Calama\n",
       "81524    8  2020  Calama\n",
       "\n",
       "[2037 rows x 3 columns]"
      ]
     },
     "execution_count": 216,
     "metadata": {},
     "output_type": "execute_result"
    }
   ],
   "source": [
    "\n",
    "\n",
    "\n",
    "#for lugar in Resumen[\"Centro\"].unique():\n",
    " #   Resumen.loc[Resumen[\"Centro\"] == lugar]\n",
    "#range(0,len(Resumen[\"Centro\"].unique()))\n",
    "\n",
    "\n",
    "Resumen.loc[Resumen[\"Centro\"] == \"Calama\"]"
   ]
  }
 ],
 "metadata": {
  "kernelspec": {
   "display_name": "Python 3",
   "language": "python",
   "name": "python3"
  },
  "language_info": {
   "codemirror_mode": {
    "name": "ipython",
    "version": 3
   },
   "file_extension": ".py",
   "mimetype": "text/x-python",
   "name": "python",
   "nbconvert_exporter": "python",
   "pygments_lexer": "ipython3",
   "version": "3.7.8"
  }
 },
 "nbformat": 4,
 "nbformat_minor": 4
}
